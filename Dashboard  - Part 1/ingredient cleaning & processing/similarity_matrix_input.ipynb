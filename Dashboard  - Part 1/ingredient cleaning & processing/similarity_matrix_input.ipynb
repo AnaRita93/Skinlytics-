{
 "cells": [
  {
   "attachments": {},
   "cell_type": "markdown",
   "metadata": {},
   "source": [
    "# Similarity matrix \n",
    "Generating a similarity matrix to feed into the recommender system engine \n",
    "(each column an ingredient, each row a product) "
   ]
  },
  {
   "cell_type": "code",
   "execution_count": 16,
   "metadata": {},
   "outputs": [],
   "source": [
    "import pandas as pd\n",
    "import numpy as np\n",
    "import re\n",
    "import matplotlib.pyplot as plt\n",
    "from matplotlib.pyplot import figure\n",
    "from math import pi\n",
    "import plotly.express as px\n",
    "from sklearn.decomposition import TruncatedSVD\n",
    "from sklearn.manifold import TSNE\n",
    "from bokeh.io import curdoc, push_notebook, output_notebook\n",
    "from bokeh.layouts import column, layout\n",
    "from bokeh.models import ColumnDataSource, Div, Select, Slider, TextInput, HoverTool\n",
    "from bokeh.plotting import figure, show\n",
    "from ipywidgets import interact, interactive, fixed, interact_manual\n"
   ]
  },
  {
   "attachments": {},
   "cell_type": "markdown",
   "metadata": {},
   "source": [
    "### Import data "
   ]
  },
  {
   "cell_type": "code",
   "execution_count": 17,
   "metadata": {},
   "outputs": [
    {
     "data": {
      "text/html": [
       "<div>\n",
       "<style scoped>\n",
       "    .dataframe tbody tr th:only-of-type {\n",
       "        vertical-align: middle;\n",
       "    }\n",
       "\n",
       "    .dataframe tbody tr th {\n",
       "        vertical-align: top;\n",
       "    }\n",
       "\n",
       "    .dataframe thead th {\n",
       "        text-align: right;\n",
       "    }\n",
       "</style>\n",
       "<table border=\"1\" class=\"dataframe\">\n",
       "  <thead>\n",
       "    <tr style=\"text-align: right;\">\n",
       "      <th></th>\n",
       "      <th>Unnamed: 0</th>\n",
       "      <th>Category</th>\n",
       "      <th>Market</th>\n",
       "      <th>Brand</th>\n",
       "      <th>Product</th>\n",
       "      <th>ingredient_list</th>\n",
       "      <th>cleaned_list</th>\n",
       "    </tr>\n",
       "  </thead>\n",
       "  <tbody>\n",
       "    <tr>\n",
       "      <th>0</th>\n",
       "      <td>0</td>\n",
       "      <td>SPF</td>\n",
       "      <td>AU</td>\n",
       "      <td>BondiSands</td>\n",
       "      <td>BondiSands-Fragrance Free Body lotion SPF 50</td>\n",
       "      <td>homosalate,octocrylene,octylsalicylate,butylme...</td>\n",
       "      <td>homosalate,octocrylene,octisalate,avobenzone,,...</td>\n",
       "    </tr>\n",
       "    <tr>\n",
       "      <th>1</th>\n",
       "      <td>1</td>\n",
       "      <td>SPF</td>\n",
       "      <td>DE</td>\n",
       "      <td>DM</td>\n",
       "      <td>DM-Sun Dance Ultra sensitive Gel creme SPF 50</td>\n",
       "      <td>aqua,alcoholdenat.,dibutyladipate,diethylamino...</td>\n",
       "      <td>water,alcoholdenat,dibutyladipate,uvinul_A_plu...</td>\n",
       "    </tr>\n",
       "    <tr>\n",
       "      <th>2</th>\n",
       "      <td>2</td>\n",
       "      <td>SPF</td>\n",
       "      <td>DE</td>\n",
       "      <td>DM</td>\n",
       "      <td>DM-Balea Niacinamide 10% moisturizer SPF 30</td>\n",
       "      <td>aqua,niacinamide,dibutyladipate,glycerin,ethyl...</td>\n",
       "      <td>water,niacinamide,dibutyladipate,glycerin,octi...</td>\n",
       "    </tr>\n",
       "    <tr>\n",
       "      <th>3</th>\n",
       "      <td>3</td>\n",
       "      <td>SPF</td>\n",
       "      <td>DE</td>\n",
       "      <td>DM</td>\n",
       "      <td>DM-Alverde Clear Beauty Getonte tagescreme</td>\n",
       "      <td>aqua,oleaeuropaeafruitoil,ci77891,alcoholdenat...</td>\n",
       "      <td>water,oleaeuropaeafruitoil,ci7789,alcoholdenat...</td>\n",
       "    </tr>\n",
       "    <tr>\n",
       "      <th>4</th>\n",
       "      <td>4</td>\n",
       "      <td>SPF</td>\n",
       "      <td>DE</td>\n",
       "      <td>Eucerin</td>\n",
       "      <td>Eucerin-Sun Oil Control</td>\n",
       "      <td>aqua,homosalate,polymethylsilsesquioxane,butyl...</td>\n",
       "      <td>water,homosalate,,avobenzone,octisalate,octocr...</td>\n",
       "    </tr>\n",
       "  </tbody>\n",
       "</table>\n",
       "</div>"
      ],
      "text/plain": [
       "   Unnamed: 0 Category Market       Brand  \\\n",
       "0           0      SPF     AU  BondiSands   \n",
       "1           1      SPF     DE          DM   \n",
       "2           2      SPF     DE          DM   \n",
       "3           3      SPF     DE          DM   \n",
       "4           4      SPF     DE     Eucerin   \n",
       "\n",
       "                                         Product  \\\n",
       "0   BondiSands-Fragrance Free Body lotion SPF 50   \n",
       "1  DM-Sun Dance Ultra sensitive Gel creme SPF 50   \n",
       "2    DM-Balea Niacinamide 10% moisturizer SPF 30   \n",
       "3    DM-Alverde Clear Beauty Getonte tagescreme    \n",
       "4                       Eucerin-Sun Oil Control    \n",
       "\n",
       "                                     ingredient_list  \\\n",
       "0  homosalate,octocrylene,octylsalicylate,butylme...   \n",
       "1  aqua,alcoholdenat.,dibutyladipate,diethylamino...   \n",
       "2  aqua,niacinamide,dibutyladipate,glycerin,ethyl...   \n",
       "3  aqua,oleaeuropaeafruitoil,ci77891,alcoholdenat...   \n",
       "4  aqua,homosalate,polymethylsilsesquioxane,butyl...   \n",
       "\n",
       "                                        cleaned_list  \n",
       "0  homosalate,octocrylene,octisalate,avobenzone,,...  \n",
       "1  water,alcoholdenat,dibutyladipate,uvinul_A_plu...  \n",
       "2  water,niacinamide,dibutyladipate,glycerin,octi...  \n",
       "3  water,oleaeuropaeafruitoil,ci7789,alcoholdenat...  \n",
       "4  water,homosalate,,avobenzone,octisalate,octocr...  "
      ]
     },
     "execution_count": 17,
     "metadata": {},
     "output_type": "execute_result"
    }
   ],
   "source": [
    "# Import data \n",
    "spf = pd.read_csv('spf_full')\n",
    "spf.head()"
   ]
  },
  {
   "cell_type": "code",
   "execution_count": 18,
   "metadata": {},
   "outputs": [
    {
     "data": {
      "text/plain": [
       "['(acrylicacid/alkylacrylate(c10-30))copolymer',\n",
       " '(acrylicacidna/acryloyldimethyltaurinena)copolymer',\n",
       " '1',\n",
       " '1-methylhydantoin-2-imide',\n",
       " '2-hexanediol',\n",
       " '2naphosphate',\n",
       " '4-methylbenzylidenecamphor',\n",
       " '4-t-butylcyclohexanol',\n",
       " 'acaciasenegalgum',\n",
       " 'acidgliciretinic',\n",
       " 'acrylates-c10-30-alkyl-acrylate-crosspolymer',\n",
       " 'acrylates/alkylacrylatec10-30crosspolymer',\n",
       " 'acrylates/c10-30alkylacrylatecrosspolymer',\n",
       " 'acrylates/dimethiconecopolymer',\n",
       " 'acrylatescopolymer',\n",
       " 'adenosine',\n",
       " 'alcohol',\n",
       " 'alcoholdenat',\n",
       " 'alcoholdenat.',\n",
       " 'alhydroxide']"
      ]
     },
     "execution_count": 18,
     "metadata": {},
     "output_type": "execute_result"
    }
   ],
   "source": [
    "\n",
    "spf_all_ingreds = []\n",
    "\n",
    "for i in spf['ingredient_list']:\n",
    "    spf_list = i.split(',')\n",
    "    for j in spf_list:\n",
    "        spf_all_ingreds.append(j)\n",
    "        \n",
    "        \n",
    "spf_all_ingreds = sorted(set(spf_all_ingreds))\n",
    "spf_all_ingreds[0:20]"
   ]
  },
  {
   "attachments": {},
   "cell_type": "markdown",
   "metadata": {
    "tags": [
     "parameters"
    ]
   },
   "source": [
    "### Generating the similarity matrix "
   ]
  },
  {
   "cell_type": "code",
   "execution_count": 19,
   "metadata": {},
   "outputs": [
    {
     "data": {
      "text/html": [
       "<div>\n",
       "<style scoped>\n",
       "    .dataframe tbody tr th:only-of-type {\n",
       "        vertical-align: middle;\n",
       "    }\n",
       "\n",
       "    .dataframe tbody tr th {\n",
       "        vertical-align: top;\n",
       "    }\n",
       "\n",
       "    .dataframe thead tr th {\n",
       "        text-align: left;\n",
       "    }\n",
       "</style>\n",
       "<table border=\"1\" class=\"dataframe\">\n",
       "  <thead>\n",
       "    <tr>\n",
       "      <th></th>\n",
       "      <th>(acrylicacid/alkylacrylate(c10-30))copolymer</th>\n",
       "      <th>(acrylicacidna/acryloyldimethyltaurinena)copolymer</th>\n",
       "      <th>1</th>\n",
       "      <th>1-methylhydantoin-2-imide</th>\n",
       "      <th>2-hexanediol</th>\n",
       "      <th>2naphosphate</th>\n",
       "      <th>4-methylbenzylidenecamphor</th>\n",
       "      <th>4-t-butylcyclohexanol</th>\n",
       "      <th>acaciasenegalgum</th>\n",
       "      <th>acidgliciretinic</th>\n",
       "      <th>...</th>\n",
       "      <th>vitamine</th>\n",
       "      <th>vitisviniferaseedoil</th>\n",
       "      <th>vp/hexadecenecopolymer</th>\n",
       "      <th>water</th>\n",
       "      <th>water-solublecollagen</th>\n",
       "      <th>xanthangum</th>\n",
       "      <th>zeamaysstarch</th>\n",
       "      <th>zincoxide</th>\n",
       "      <th>zincoxide(4)</th>\n",
       "      <th>zincoxide(9.0)</th>\n",
       "    </tr>\n",
       "  </thead>\n",
       "  <tbody>\n",
       "    <tr>\n",
       "      <th>0</th>\n",
       "      <td>0</td>\n",
       "      <td>0</td>\n",
       "      <td>0</td>\n",
       "      <td>0</td>\n",
       "      <td>0</td>\n",
       "      <td>0</td>\n",
       "      <td>0</td>\n",
       "      <td>0</td>\n",
       "      <td>0</td>\n",
       "      <td>0</td>\n",
       "      <td>...</td>\n",
       "      <td>0</td>\n",
       "      <td>0</td>\n",
       "      <td>0</td>\n",
       "      <td>0</td>\n",
       "      <td>0</td>\n",
       "      <td>0</td>\n",
       "      <td>0</td>\n",
       "      <td>0</td>\n",
       "      <td>0</td>\n",
       "      <td>0</td>\n",
       "    </tr>\n",
       "    <tr>\n",
       "      <th>1</th>\n",
       "      <td>0</td>\n",
       "      <td>0</td>\n",
       "      <td>0</td>\n",
       "      <td>0</td>\n",
       "      <td>0</td>\n",
       "      <td>0</td>\n",
       "      <td>0</td>\n",
       "      <td>0</td>\n",
       "      <td>0</td>\n",
       "      <td>0</td>\n",
       "      <td>...</td>\n",
       "      <td>0</td>\n",
       "      <td>0</td>\n",
       "      <td>0</td>\n",
       "      <td>1</td>\n",
       "      <td>0</td>\n",
       "      <td>0</td>\n",
       "      <td>0</td>\n",
       "      <td>0</td>\n",
       "      <td>0</td>\n",
       "      <td>0</td>\n",
       "    </tr>\n",
       "    <tr>\n",
       "      <th>2</th>\n",
       "      <td>0</td>\n",
       "      <td>0</td>\n",
       "      <td>1</td>\n",
       "      <td>0</td>\n",
       "      <td>0</td>\n",
       "      <td>0</td>\n",
       "      <td>0</td>\n",
       "      <td>0</td>\n",
       "      <td>0</td>\n",
       "      <td>0</td>\n",
       "      <td>...</td>\n",
       "      <td>0</td>\n",
       "      <td>0</td>\n",
       "      <td>0</td>\n",
       "      <td>1</td>\n",
       "      <td>0</td>\n",
       "      <td>0</td>\n",
       "      <td>0</td>\n",
       "      <td>0</td>\n",
       "      <td>0</td>\n",
       "      <td>0</td>\n",
       "    </tr>\n",
       "    <tr>\n",
       "      <th>3</th>\n",
       "      <td>0</td>\n",
       "      <td>0</td>\n",
       "      <td>0</td>\n",
       "      <td>0</td>\n",
       "      <td>0</td>\n",
       "      <td>0</td>\n",
       "      <td>0</td>\n",
       "      <td>0</td>\n",
       "      <td>0</td>\n",
       "      <td>0</td>\n",
       "      <td>...</td>\n",
       "      <td>0</td>\n",
       "      <td>0</td>\n",
       "      <td>0</td>\n",
       "      <td>1</td>\n",
       "      <td>0</td>\n",
       "      <td>0</td>\n",
       "      <td>0</td>\n",
       "      <td>1</td>\n",
       "      <td>0</td>\n",
       "      <td>0</td>\n",
       "    </tr>\n",
       "    <tr>\n",
       "      <th>4</th>\n",
       "      <td>0</td>\n",
       "      <td>0</td>\n",
       "      <td>0</td>\n",
       "      <td>0</td>\n",
       "      <td>0</td>\n",
       "      <td>0</td>\n",
       "      <td>0</td>\n",
       "      <td>0</td>\n",
       "      <td>0</td>\n",
       "      <td>0</td>\n",
       "      <td>...</td>\n",
       "      <td>0</td>\n",
       "      <td>0</td>\n",
       "      <td>0</td>\n",
       "      <td>1</td>\n",
       "      <td>0</td>\n",
       "      <td>0</td>\n",
       "      <td>0</td>\n",
       "      <td>0</td>\n",
       "      <td>0</td>\n",
       "      <td>0</td>\n",
       "    </tr>\n",
       "  </tbody>\n",
       "</table>\n",
       "<p>5 rows × 542 columns</p>\n",
       "</div>"
      ],
      "text/plain": [
       "  (acrylicacid/alkylacrylate(c10-30))copolymer  \\\n",
       "0                                            0   \n",
       "1                                            0   \n",
       "2                                            0   \n",
       "3                                            0   \n",
       "4                                            0   \n",
       "\n",
       "  (acrylicacidna/acryloyldimethyltaurinena)copolymer  1  \\\n",
       "0                                                  0  0   \n",
       "1                                                  0  0   \n",
       "2                                                  0  1   \n",
       "3                                                  0  0   \n",
       "4                                                  0  0   \n",
       "\n",
       "  1-methylhydantoin-2-imide 2-hexanediol 2naphosphate  \\\n",
       "0                         0            0            0   \n",
       "1                         0            0            0   \n",
       "2                         0            0            0   \n",
       "3                         0            0            0   \n",
       "4                         0            0            0   \n",
       "\n",
       "  4-methylbenzylidenecamphor 4-t-butylcyclohexanol acaciasenegalgum  \\\n",
       "0                          0                     0                0   \n",
       "1                          0                     0                0   \n",
       "2                          0                     0                0   \n",
       "3                          0                     0                0   \n",
       "4                          0                     0                0   \n",
       "\n",
       "  acidgliciretinic  ... vitamine vitisviniferaseedoil vp/hexadecenecopolymer  \\\n",
       "0                0  ...        0                    0                      0   \n",
       "1                0  ...        0                    0                      0   \n",
       "2                0  ...        0                    0                      0   \n",
       "3                0  ...        0                    0                      0   \n",
       "4                0  ...        0                    0                      0   \n",
       "\n",
       "  water water-solublecollagen xanthangum zeamaysstarch zincoxide zincoxide(4)  \\\n",
       "0     0                     0          0             0         0            0   \n",
       "1     1                     0          0             0         0            0   \n",
       "2     1                     0          0             0         0            0   \n",
       "3     1                     0          0             0         1            0   \n",
       "4     1                     0          0             0         0            0   \n",
       "\n",
       "  zincoxide(9.0)  \n",
       "0              0  \n",
       "1              0  \n",
       "2              0  \n",
       "3              0  \n",
       "4              0  \n",
       "\n",
       "[5 rows x 542 columns]"
      ]
     },
     "execution_count": 19,
     "metadata": {},
     "output_type": "execute_result"
    }
   ],
   "source": [
    "# This is a very basic matrix, weights can be adjusted \n",
    "\n",
    "one_hot_list = [[0] * 0 for i in range(len(spf_all_ingreds))]\n",
    "\n",
    "for i in spf['cleaned_list']:\n",
    "    k=0\n",
    "    for j in spf_all_ingreds:\n",
    "        if j in i:\n",
    "            one_hot_list[k].append(1)\n",
    "        else:\n",
    "            one_hot_list[k].append(0)\n",
    "        k+=1\n",
    "        \n",
    "ingred_matrix = pd.DataFrame(one_hot_list).transpose()\n",
    "ingred_matrix.columns = [sorted(set(spf_all_ingreds))]\n",
    "\n",
    "ingred_matrix[0:5]\n"
   ]
  },
  {
   "cell_type": "code",
   "execution_count": 20,
   "metadata": {},
   "outputs": [],
   "source": [
    "ingred_matrix.to_csv('similarity_matrix')"
   ]
  },
  {
   "attachments": {},
   "cell_type": "markdown",
   "metadata": {},
   "source": [
    "### Extra: Mapped Similarities Visualization "
   ]
  },
  {
   "cell_type": "code",
   "execution_count": 21,
   "metadata": {},
   "outputs": [],
   "source": [
    "svd = TruncatedSVD(n_components=300, n_iter = 1000, random_state = 6) # firstly reduce features to 150 with truncatedSVD - this suppresses some noise\n",
    "\n",
    "svd_features = svd.fit_transform(ingred_matrix)\n",
    "\n",
    "tsne = TSNE(n_components = 2, n_iter = 1000000, random_state = 6) # reduce 150 features to 2 using t-SNE with exact method\n",
    "\n",
    "tsne_features = tsne.fit_transform(svd_features)\n",
    "\n",
    "spf['X'] = tsne_features[:, 0]\n",
    "\n",
    "spf['Y'] = tsne_features[:, 1]"
   ]
  },
  {
   "cell_type": "code",
   "execution_count": 22,
   "metadata": {},
   "outputs": [
    {
     "data": {
      "text/html": [
       "\n",
       "    <div class=\"bk-root\">\n",
       "        <a href=\"https://bokeh.org\" target=\"_blank\" class=\"bk-logo bk-logo-small bk-logo-notebook\"></a>\n",
       "        <span id=\"1149\">Loading BokehJS ...</span>\n",
       "    </div>"
      ]
     },
     "metadata": {},
     "output_type": "display_data"
    },
    {
     "data": {
      "application/javascript": "\n(function(root) {\n  function now() {\n    return new Date();\n  }\n\n  var force = true;\n\n  if (typeof root._bokeh_onload_callbacks === \"undefined\" || force === true) {\n    root._bokeh_onload_callbacks = [];\n    root._bokeh_is_loading = undefined;\n  }\n\n  var JS_MIME_TYPE = 'application/javascript';\n  var HTML_MIME_TYPE = 'text/html';\n  var EXEC_MIME_TYPE = 'application/vnd.bokehjs_exec.v0+json';\n  var CLASS_NAME = 'output_bokeh rendered_html';\n\n  /**\n   * Render data to the DOM node\n   */\n  function render(props, node) {\n    var script = document.createElement(\"script\");\n    node.appendChild(script);\n  }\n\n  /**\n   * Handle when an output is cleared or removed\n   */\n  function handleClearOutput(event, handle) {\n    var cell = handle.cell;\n\n    var id = cell.output_area._bokeh_element_id;\n    var server_id = cell.output_area._bokeh_server_id;\n    // Clean up Bokeh references\n    if (id != null && id in Bokeh.index) {\n      Bokeh.index[id].model.document.clear();\n      delete Bokeh.index[id];\n    }\n\n    if (server_id !== undefined) {\n      // Clean up Bokeh references\n      var cmd = \"from bokeh.io.state import curstate; print(curstate().uuid_to_server['\" + server_id + \"'].get_sessions()[0].document.roots[0]._id)\";\n      cell.notebook.kernel.execute(cmd, {\n        iopub: {\n          output: function(msg) {\n            var id = msg.content.text.trim();\n            if (id in Bokeh.index) {\n              Bokeh.index[id].model.document.clear();\n              delete Bokeh.index[id];\n            }\n          }\n        }\n      });\n      // Destroy server and session\n      var cmd = \"import bokeh.io.notebook as ion; ion.destroy_server('\" + server_id + \"')\";\n      cell.notebook.kernel.execute(cmd);\n    }\n  }\n\n  /**\n   * Handle when a new output is added\n   */\n  function handleAddOutput(event, handle) {\n    var output_area = handle.output_area;\n    var output = handle.output;\n\n    // limit handleAddOutput to display_data with EXEC_MIME_TYPE content only\n    if ((output.output_type != \"display_data\") || (!Object.prototype.hasOwnProperty.call(output.data, EXEC_MIME_TYPE))) {\n      return\n    }\n\n    var toinsert = output_area.element.find(\".\" + CLASS_NAME.split(' ')[0]);\n\n    if (output.metadata[EXEC_MIME_TYPE][\"id\"] !== undefined) {\n      toinsert[toinsert.length - 1].firstChild.textContent = output.data[JS_MIME_TYPE];\n      // store reference to embed id on output_area\n      output_area._bokeh_element_id = output.metadata[EXEC_MIME_TYPE][\"id\"];\n    }\n    if (output.metadata[EXEC_MIME_TYPE][\"server_id\"] !== undefined) {\n      var bk_div = document.createElement(\"div\");\n      bk_div.innerHTML = output.data[HTML_MIME_TYPE];\n      var script_attrs = bk_div.children[0].attributes;\n      for (var i = 0; i < script_attrs.length; i++) {\n        toinsert[toinsert.length - 1].firstChild.setAttribute(script_attrs[i].name, script_attrs[i].value);\n        toinsert[toinsert.length - 1].firstChild.textContent = bk_div.children[0].textContent\n      }\n      // store reference to server id on output_area\n      output_area._bokeh_server_id = output.metadata[EXEC_MIME_TYPE][\"server_id\"];\n    }\n  }\n\n  function register_renderer(events, OutputArea) {\n\n    function append_mime(data, metadata, element) {\n      // create a DOM node to render to\n      var toinsert = this.create_output_subarea(\n        metadata,\n        CLASS_NAME,\n        EXEC_MIME_TYPE\n      );\n      this.keyboard_manager.register_events(toinsert);\n      // Render to node\n      var props = {data: data, metadata: metadata[EXEC_MIME_TYPE]};\n      render(props, toinsert[toinsert.length - 1]);\n      element.append(toinsert);\n      return toinsert\n    }\n\n    /* Handle when an output is cleared or removed */\n    events.on('clear_output.CodeCell', handleClearOutput);\n    events.on('delete.Cell', handleClearOutput);\n\n    /* Handle when a new output is added */\n    events.on('output_added.OutputArea', handleAddOutput);\n\n    /**\n     * Register the mime type and append_mime function with output_area\n     */\n    OutputArea.prototype.register_mime_type(EXEC_MIME_TYPE, append_mime, {\n      /* Is output safe? */\n      safe: true,\n      /* Index of renderer in `output_area.display_order` */\n      index: 0\n    });\n  }\n\n  // register the mime type if in Jupyter Notebook environment and previously unregistered\n  if (root.Jupyter !== undefined) {\n    var events = require('base/js/events');\n    var OutputArea = require('notebook/js/outputarea').OutputArea;\n\n    if (OutputArea.prototype.mime_types().indexOf(EXEC_MIME_TYPE) == -1) {\n      register_renderer(events, OutputArea);\n    }\n  }\n\n  \n  if (typeof (root._bokeh_timeout) === \"undefined\" || force === true) {\n    root._bokeh_timeout = Date.now() + 5000;\n    root._bokeh_failed_load = false;\n  }\n\n  var NB_LOAD_WARNING = {'data': {'text/html':\n     \"<div style='background-color: #fdd'>\\n\"+\n     \"<p>\\n\"+\n     \"BokehJS does not appear to have successfully loaded. If loading BokehJS from CDN, this \\n\"+\n     \"may be due to a slow or bad network connection. Possible fixes:\\n\"+\n     \"</p>\\n\"+\n     \"<ul>\\n\"+\n     \"<li>re-rerun `output_notebook()` to attempt to load from CDN again, or</li>\\n\"+\n     \"<li>use INLINE resources instead, as so:</li>\\n\"+\n     \"</ul>\\n\"+\n     \"<code>\\n\"+\n     \"from bokeh.resources import INLINE\\n\"+\n     \"output_notebook(resources=INLINE)\\n\"+\n     \"</code>\\n\"+\n     \"</div>\"}};\n\n  function display_loaded() {\n    var el = document.getElementById(\"1149\");\n    if (el != null) {\n      el.textContent = \"BokehJS is loading...\";\n    }\n    if (root.Bokeh !== undefined) {\n      if (el != null) {\n        el.textContent = \"BokehJS \" + root.Bokeh.version + \" successfully loaded.\";\n      }\n    } else if (Date.now() < root._bokeh_timeout) {\n      setTimeout(display_loaded, 100)\n    }\n  }\n\n\n  function run_callbacks() {\n    try {\n      root._bokeh_onload_callbacks.forEach(function(callback) {\n        if (callback != null)\n          callback();\n      });\n    } finally {\n      delete root._bokeh_onload_callbacks\n    }\n    console.debug(\"Bokeh: all callbacks have finished\");\n  }\n\n  function load_libs(css_urls, js_urls, callback) {\n    if (css_urls == null) css_urls = [];\n    if (js_urls == null) js_urls = [];\n\n    root._bokeh_onload_callbacks.push(callback);\n    if (root._bokeh_is_loading > 0) {\n      console.debug(\"Bokeh: BokehJS is being loaded, scheduling callback at\", now());\n      return null;\n    }\n    if (js_urls == null || js_urls.length === 0) {\n      run_callbacks();\n      return null;\n    }\n    console.debug(\"Bokeh: BokehJS not loaded, scheduling load and callback at\", now());\n    root._bokeh_is_loading = css_urls.length + js_urls.length;\n\n    function on_load() {\n      root._bokeh_is_loading--;\n      if (root._bokeh_is_loading === 0) {\n        console.debug(\"Bokeh: all BokehJS libraries/stylesheets loaded\");\n        run_callbacks()\n      }\n    }\n\n    function on_error(url) {\n      console.error(\"failed to load \" + url);\n    }\n\n    for (let i = 0; i < css_urls.length; i++) {\n      const url = css_urls[i];\n      const element = document.createElement(\"link\");\n      element.onload = on_load;\n      element.onerror = on_error.bind(null, url);\n      element.rel = \"stylesheet\";\n      element.type = \"text/css\";\n      element.href = url;\n      console.debug(\"Bokeh: injecting link tag for BokehJS stylesheet: \", url);\n      document.body.appendChild(element);\n    }\n\n    const hashes = {\"https://cdn.bokeh.org/bokeh/release/bokeh-2.3.3.min.js\": \"dM3QQsP+wXdHg42wTqW85BjZQdLNNIXqlPw/BgKoExPmTG7ZLML4EGqLMfqHT6ON\", \"https://cdn.bokeh.org/bokeh/release/bokeh-tables-2.3.3.min.js\": \"8x57I4YuIfu8XyZfFo0XVr2WAT8EK4rh/uDe3wF7YuW2FNUSNEpJbsPaB1nJ2fz2\", \"https://cdn.bokeh.org/bokeh/release/bokeh-widgets-2.3.3.min.js\": \"3QTqdz9LyAm2i0sG5XTePsHec3UHWwVsrOL68SYRoAXsafvfAyqtQ+h440+qIBhS\"};\n\n    for (let i = 0; i < js_urls.length; i++) {\n      const url = js_urls[i];\n      const element = document.createElement('script');\n      element.onload = on_load;\n      element.onerror = on_error.bind(null, url);\n      element.async = false;\n      element.src = url;\n      if (url in hashes) {\n        element.crossOrigin = \"anonymous\";\n        element.integrity = \"sha384-\" + hashes[url];\n      }\n      console.debug(\"Bokeh: injecting script tag for BokehJS library: \", url);\n      document.head.appendChild(element);\n    }\n  };\n\n  function inject_raw_css(css) {\n    const element = document.createElement(\"style\");\n    element.appendChild(document.createTextNode(css));\n    document.body.appendChild(element);\n  }\n\n  \n  var js_urls = [\"https://cdn.bokeh.org/bokeh/release/bokeh-2.3.3.min.js\", \"https://cdn.bokeh.org/bokeh/release/bokeh-widgets-2.3.3.min.js\", \"https://cdn.bokeh.org/bokeh/release/bokeh-tables-2.3.3.min.js\"];\n  var css_urls = [];\n  \n\n  var inline_js = [\n    function(Bokeh) {\n      Bokeh.set_log_level(\"info\");\n    },\n    function(Bokeh) {\n    \n    \n    }\n  ];\n\n  function run_inline_js() {\n    \n    if (root.Bokeh !== undefined || force === true) {\n      \n    for (var i = 0; i < inline_js.length; i++) {\n      inline_js[i].call(root, root.Bokeh);\n    }\n    if (force === true) {\n        display_loaded();\n      }} else if (Date.now() < root._bokeh_timeout) {\n      setTimeout(run_inline_js, 100);\n    } else if (!root._bokeh_failed_load) {\n      console.log(\"Bokeh: BokehJS failed to load within specified timeout.\");\n      root._bokeh_failed_load = true;\n    } else if (force !== true) {\n      var cell = $(document.getElementById(\"1149\")).parents('.cell').data().cell;\n      cell.output_area.append_execute_result(NB_LOAD_WARNING)\n    }\n\n  }\n\n  if (root._bokeh_is_loading === 0) {\n    console.debug(\"Bokeh: BokehJS loaded, going straight to plotting\");\n    run_inline_js();\n  } else {\n    load_libs(css_urls, js_urls, function() {\n      console.debug(\"Bokeh: BokehJS plotting callback run at\", now());\n      run_inline_js();\n    });\n  }\n}(window));",
      "application/vnd.bokehjs_load.v0+json": ""
     },
     "metadata": {},
     "output_type": "display_data"
    },
    {
     "data": {
      "text/html": [
       "\n",
       "\n",
       "\n",
       "\n",
       "\n",
       "\n",
       "  <div class=\"bk-root\" id=\"f7e1d97c-0b9b-44af-8847-365f69255602\" data-root-id=\"1109\"></div>\n"
      ]
     },
     "metadata": {},
     "output_type": "display_data"
    },
    {
     "data": {
      "application/javascript": "(function(root) {\n  function embed_document(root) {\n    \n  var docs_json = {\"0e4e052f-4340-4c2e-8707-f1e4ae59f3ac\":{\"defs\":[],\"roots\":{\"references\":[{\"attributes\":{\"background_fill_alpha\":0.3,\"background_fill_color\":\"#E9E9E9\",\"below\":[{\"id\":\"1120\"}],\"center\":[{\"id\":\"1123\"},{\"id\":\"1127\"}],\"height\":500,\"left\":[{\"id\":\"1124\"}],\"renderers\":[{\"id\":\"1145\"}],\"title\":{\"id\":\"1110\"},\"toolbar\":{\"id\":\"1135\"},\"width\":700,\"x_range\":{\"id\":\"1112\"},\"x_scale\":{\"id\":\"1116\"},\"y_range\":{\"id\":\"1114\"},\"y_scale\":{\"id\":\"1118\"}},\"id\":\"1109\",\"subtype\":\"Figure\",\"type\":\"Plot\"},{\"attributes\":{\"text\":\"Mapped Similarities\"},\"id\":\"1110\",\"type\":\"Title\"},{\"attributes\":{},\"id\":\"1133\",\"type\":\"HelpTool\"},{\"attributes\":{\"axis_label\":\"t-SNE 2\",\"formatter\":{\"id\":\"1166\"},\"major_label_policy\":{\"id\":\"1165\"},\"ticker\":{\"id\":\"1125\"}},\"id\":\"1124\",\"type\":\"LinearAxis\"},{\"attributes\":{},\"id\":\"1112\",\"type\":\"DataRange1d\"},{\"attributes\":{},\"id\":\"1116\",\"type\":\"LinearScale\"},{\"attributes\":{\"axis\":{\"id\":\"1120\"},\"ticker\":null},\"id\":\"1123\",\"type\":\"Grid\"},{\"attributes\":{},\"id\":\"1168\",\"type\":\"UnionRenderers\"},{\"attributes\":{},\"id\":\"1165\",\"type\":\"AllLabels\"},{\"attributes\":{},\"id\":\"1129\",\"type\":\"WheelZoomTool\"},{\"attributes\":{},\"id\":\"1114\",\"type\":\"DataRange1d\"},{\"attributes\":{\"active_multi\":null,\"tools\":[{\"id\":\"1128\"},{\"id\":\"1129\"},{\"id\":\"1130\"},{\"id\":\"1131\"},{\"id\":\"1132\"},{\"id\":\"1133\"},{\"id\":\"1147\"}]},\"id\":\"1135\",\"type\":\"Toolbar\"},{\"attributes\":{\"data_source\":{\"id\":\"1108\"},\"glyph\":{\"id\":\"1143\"},\"hover_glyph\":null,\"muted_glyph\":null,\"nonselection_glyph\":{\"id\":\"1144\"},\"view\":{\"id\":\"1146\"}},\"id\":\"1145\",\"type\":\"GlyphRenderer\"},{\"attributes\":{\"callback\":null,\"tooltips\":[[\"Product\",\"@Product\"]]},\"id\":\"1147\",\"type\":\"HoverTool\"},{\"attributes\":{\"data\":{\"Brand\":[\"BondiSands\",\"DM\",\"DM\",\"DM\",\"Eucerin\",\"JeanLen\",\"Nivea\",\"Nivea\",\"Nivea\",\"Nivea\",\"Nivea\",\"ROSSMAN\",\"ROSSMAN\",\"ROSSMAN\",\"ROSSMAN\",\"ROSSMAN\",\"Sebamed\",\"Garnier\",\"Garnier\",\"Garnier\",\"Garnier\",\"LaRochePosay\",\"LaRochePosay\",\"LaRochePosay\",\"NiveaJapan\",\"RothoMentolatum\",\"Kose\",\"OmiVerdio\",\"KissMeMommy\",\"kao\",\"RothoMentolatum\",\"RothoMentolatum\",\"Canmake\",\"RothoMentolatum\",\"BLab\",\"Mary&May\",\"COSRX\",\"BeautyofJoseon\",\"Rovectin\",\"Coxir\",\"Benton\",\"ISNTREE\",\"DRG\",\"Misha\",\"Higgee\",\"Purito\",\"Neutrogena\",\"Aveeno\",\"Cerave\",\"AustralianGold\",\"EltaMD\"],\"Category\":[\"SPF\",\"SPF\",\"SPF\",\"SPF\",\"SPF\",\"SPF\",\"SPF\",\"SPF\",\"SPF\",\"SPF\",\"SPF\",\"SPF\",\"SPF\",\"SPF\",\"SPF\",\"SPF\",\"SPF\",\"SPF\",\"SPF\",\"SPF\",\"SPF\",\"SPF\",\"SPF\",\"SPF\",\"SPF\",\"SPF\",\"SPF\",\"SPF\",\"SPF\",\"SPF\",\"SPF\",\"SPF\",\"SPF\",\"SPF\",\"SPF\",\"SPF\",\"SPF\",\"SPF\",\"SPF\",\"SPF\",\"SPF\",\"SPF\",\"SPF\",\"SPF\",\"SPF\",\"SPF\",\"SPF\",\"SPF\",\"SPF\",\"SPF\",\"SPF\"],\"Market\":[\"AU\",\"DE\",\"DE\",\"DE\",\"DE\",\"DE\",\"DE\",\"DE\",\"DE\",\"DE\",\"DE\",\"DE\",\"DE\",\"DE\",\"DE\",\"DE\",\"DE\",\"FR\",\"FR\",\"FR\",\"FR\",\"FR\",\"FR\",\"FR\",\"JP\",\"JP\",\"JP\",\"JP\",\"JP\",\"JP\",\"JP\",\"JP\",\"JP\",\"JP\",\"KR\",\"KR\",\"KR\",\"KR\",\"KR\",\"KR\",\"KR\",\"KR\",\"KR\",\"KR\",\"KR\",\"KR\",\"US\",\"US\",\"US\",\"US\",\"US\"],\"Product\":[\"BondiSands-Fragrance Free Body lotion SPF 50\",\"DM-Sun Dance Ultra sensitive Gel creme SPF 50\",\"DM-Balea Niacinamide 10% moisturizer SPF 30\",\"DM-Alverde Clear Beauty Getonte tagescreme \",\"Eucerin-Sun Oil Control \",\"JeanLen-Sensitive Face SPF 50\",\"Nivea-Beruhigende Tagespflege 24H LSF 15\",\"Nivea-Sensitive protect SPF 30\",\"Nivea-Sensitive Face SPF 50\",\"Nivea-Sensitive Shine Control Face SPF 50\",\"Nivea-Anti Falten Q10 Poren LSF 15 \",\"ROSSMAN-Sun OZone AlgenExtract SPF 50\",\"ROSSMAN-Sun Ozone Med Gel SPF 20 \",\"ROSSMAN-Sun OZone Anti Aging SPF 50\",\"ROSSMAN-Sun OZone Med fluid SPF 30\",\"ROSSMAN-ISANA HA Moisturizer SPF 30\",\"Sebamed-Anti Rotung LSF 20\",\"Garnier-BB oily/combo skin tinted SPF 25 \",\"Garnier-Ambre Solaire Anti Aging SPF \",\"Garnier-Ambre Solaire SUper UV Fluid\",\"Garnier-Vitamin C Serum creme SPF 25\",\"LaRochePosay-Anthelios Invisible Fluid\",\"LaRochePosay-Anthelios SPF 50\",\"LaRochePosay-Anthelios Shaka Fluid sensitive Tinted SPF 50\",\"NiveaJapan-Aqua Gel\",\"RothoMentolatum-Skin Aqua Super Moisture Gel SPF 50\",\"Kose-Suncut UV Perfect Gel Super water proof spf 50\",\"OmiVerdio-Gel Moisturizer SPF 50\",\"KissMeMommy-Mild SPF Gel \",\"kao-Biore UV Aqua Rich Light up essence \",\"RothoMentolatum-Hada Labo White gel SPF 50\",\"RothoMentolatum-Skin Aqua UV Super Moisture Essence Gold\",\"Canmake-Mermaid SPF 50\",\"RothoMentolatum-Skin Aqua UV Moisture Milk SPF 50\",\"BLab-Matcha SPF \",\"Mary&May-Cica Soothing SPF 50\",\"COSRX-Aloe SPF 50\",\"BeautyofJoseon-Rice Probiotics SPF 50 \",\"Rovectin-Rovectin SPF\",\"Coxir-Ceramides UV block SPF 50\",\"Benton-Air fit SPF \",\"ISNTREE-Water Gel SPF 50\",\"DRG-Mild Green SPF\",\"Misha-Aqua GEL spf50 PA ++++\",\"Higgee-Vegan SPF 50\",\"Purito-Daily Go SPF \",\"Neutrogena-Clear Face SPF 30\",\"Aveeno-Daily Calming SPF 19\",\"Cerave-Lotion SPF 25\",\"AustralianGold-Tinted SPF 50 Medium to Tan \",\"EltaMD-Clear  SPF 46\"],\"Unnamed: 0\":[0,1,2,3,4,5,6,7,8,9,10,11,12,13,14,15,16,17,18,19,20,21,22,23,24,25,26,27,28,29,30,31,32,33,34,35,36,37,38,39,40,41,42,43,44,45,46,47,48,49,50],\"X\":{\"__ndarray__\":\"CsCMQAdtjUKEi/VCy8m8QpHdF0KsOt/C7ky8wnwhjMJOyhHCRK3mwqdfIEOcxflB7eakwRCqJkJhahNCXSEBQrgB8kLvocDBtwAbw4i+acHb8XLCoSfqwIFQzkBgtzjChB/HwrsvB0PanldDWHBUwjVp2ULneRJCB96DwZM828CSSKHC0ivWQgG7CcPx4BJDfNpKwnwOGENQcjzDX6ShQlNBOsN+q4LDKBplQ8Zbc8MpCVRDhecSQtJxgUKxB5nCfUspwxC9rcJ+bKxC\",\"dtype\":\"float32\",\"order\":\"little\",\"shape\":[51]},\"Y\":{\"__ndarray__\":\"ZjAwQTOjNEDArq5CoXUwQi0iF0LWrAxCcuaUwgclAsLhopTCs9HHwfLqDEOWGWvC1SmqQv2rKUOOOaXB/Sd5Q2dDR0NbWCdD6Dz7Qn2WCcM4BG5CXZ05w0j58ULazTLDusa1QsALQ8PgTPfCqCFyQRiG8MFvfNnC6AVHQm2ZBcJbN2FDXUnnws/sEcNvWIbCdHvtQncZRkFJQInBPngGQ9tl1sLMZtK/bvmQQqRq6EIDh9jB44SvQn4RLsMimfLC7p5xQqDxHEPbVoTC\",\"dtype\":\"float32\",\"order\":\"little\",\"shape\":[51]},\"cleaned_list\":[\"homosalate,octocrylene,octisalate,avobenzone,,benzylalcohol\",\"water,alcoholdenat,dibutyladipate,uvinul_A_plus,glycerin,c2-5alkylbenzoate,octisalate,uvasorb_heb,,,tinosorb_S,,ensulizole,vitaminE_acetate,acrylatescopolymer,,caprylylglycol,,galactoarabinan,,,,,citricacid,vitaminE\",\"water,niacinamide,dibutyladipate,glycerin,octisalate,avobenzone,diisopropylsebacate,ensulizole,c2-5alkylbenzoate,tinosorb_S,cetearylalcohol,glycerylstearatecitrate,uvinul_t150,panthenol,,,propyleneglycol,glycyrrhizaglabrarootextract,sorbitol,,,citricacid,caprylylglycol,,\",\"water,oleaeuropaeafruitoil,ci7789,alcoholdenat,glycerin,zincoxide,carthamustinctoriusseedoil,prunusamygdalusdulcisoil,,sheabutter,,,,camelliasinensisleafextract,centellaasiaticaextract,bambusaarundinaceastempowder,2,9,,cetearylalcohol,,silica,,stearicacid,vitaminE,helianthusannuusseedoil,vitaminC_derivative\",\"water,homosalate,,avobenzone,octisalate,octocrylene,alcoholdenat,,ensulizole,cyclomethicone,behenylalcohol,cetearylalcohol,methyl,,glycerin,,,glycyrrhizainflatarootextract,,,,,,,,,\",\"titaniumdioxide,octyldodecanol,dibutyladipate,alcoholdenat,cetearylalcohol,uvasorb_heb,glycerylstearatecitrate,glycerylstearatese,,vitaminE_acetate,helianthusannuusseedcera,caprylylglycol,aluminumhydroxide,stearicacid,glycerylrosinate,tinosorb_S,,,,ensulizole,,,,,caprylhydroxacid,,,vitaminC_derivative\",\"water,glycerin,octisalate,c2-5alkylbenzoate,methyl,cetearylalcohol,avobenzone,caprylic/caprictriglyceride,glycerylstearate,,,tinosorb_S,distarchphosphate,glycyrrhizainflatarootextract,vitisviniferaseedoil,,sheabutter,,hydroxyacetophenone,,ensulizole,,,,\",\"water,homosalate,alcoholdenat,avobenzone,octisalate,butyleneglycoldicaprylate/dicaprate,tinosorb_S,uvinul_t150,isopropylpalmitate,ensulizole,silica,,uvinul_A_plus,behenylalcohol,cetearylalcohol,methyl,glycerin,glycyrrhizainflatarootextract,vitaminE_acetate,,,,,,,dimethicone,,caprylylglycol,\",\"water,alcoholdenat,avobenzone,uvinul_t150,tinosorb_S,isopropylpalmitate,c2-5alkylbenzoate,dibutyladipate,butyleneglycoldicaprylate/dicaprate,uvinul_A_plus,glycerylstearate,glycerin,ensulizole,glycyrrhizainflatarootextract,aloeveraextract,vitaminE_acetate,,,c8-38alkylhydroxystearoylstearate,coperniciaceriferacera,hydrogenatedrapeseedoil,cetylpalmitate,,,,,caprylylglycol,,\",\"water,homosalate,avobenzone,octisalate,butyleneglycoldicaprylate/dicaprate,alcoholdenat,tinosorb_S,uvinul_t150,isopropylpalmitate,ensulizole,silica,,uvinul_A_plus,behenylalcohol,cetearylalcohol,methyl,glycerin,glycyrrhizainflatarootextract,vitaminE_acetate,,,,,dimethicone,,,,,,linalool,limonene,benzylalcohol,,geraniol,citronellol,coumarin,parfum\",\"water,octisalate,octocrylene,glycerin,avobenzone,cetearylalcohol,dimethicone,methyl,glycerylstearatecitrate,ensulizole,ubiquinone,creatine,,fucusvesiculosusextract,vitaminE,caprylic/caprictriglyceride,dicaprylylcarbonate,caprylylglycol,,,,,,,,,,limonene,linalool,benzylalcohol,,geraniol,parfum,\",\"water,glycerin,c2-5alkylbenzoate,uvinul_A_plus,diisopropyladipate,uvinul_t150,dicaprylate/caprate,tinosorb_S,tinosorb_S,,myristylalcohol,,,ensulizole,vitaminE_acetate,parfum,,,,caprylhydroxacid,butyleneglycol,codiumtomentosumextract\",\"titaniumdioxide,acrylatescopolymer,vitaminE_acetate,carnosine,dimethicone,,ensulizole,silica,hydrogendimethicone,,caprylylglycol,caprylhydroxacid,,\",\"water,glycerin,c2-5alkylbenzoate,uvinul_A_plus,dicaprylate/caprate,diisopropyladipate,uvinul_t150,tinosorb_S,,myristylalcohol,,,ensulizole,vitaminE_acetate,parfum,,,,caprylhydroxacid,sodiumhyaluronate,ubiquinone,limonene\",\"water,glycerin,c2-5alkylbenzoate,uvinul_A_plus,diisopropyladipate,uvinul_t150,dicaprylate/caprate,tinosorb_S,,myristylalcohol,,,ensulizole,vitaminE_acetate,,,,caprylhydroxacid\",\"water,c2-5alkylbenzoate,glycerin,avobenzone,uvinul_t150,ensulizole,arginine,cetylalcohol,cocoglycerides,,tinosorb_S,hydrogenatedpalmglycerides,coco-caprylate,hydrogenatedvegetableglycerides,sesamumindicumseedoil,vitaminE_acetate,vitisviniferaseedoil,sodiumhyaluronate,helianthusannuusseedoil,vitaminE,sodiumchondroitinsulfate,atelocollagen,,panthenol,pentaerythrityltetraisostearate,,,parfum,,,,linalool,butyleneglycol,limonene,pantolactone,benzylalcohol,benzylsalicylate,caprylylglycol,,,citronellol,citricacid\",\"water,glycerin,dibutyladipate,dicaprylylether,,tinosorb_m,,tinosorb_a2b,,cetearylalcohol,uvinul_t150,tinosorb_S,vitaminE_acetate,sheabutter,ethylhexylstearate,glycerylstearate,,,,physalispubescensfruitjuice,centellaasiaticaextract,diethylhexylsyringylidenemalonate,symsitive,pentyleneglycol,vitaminE,allantoin,caprylic/caprictriglyceride,,propyleneglycol,butyleneglycol,,,,,citricacid,,,benzylalcohol,,\",\"titaniumdioxide,butyleneglycol,isododecane,,phenyltrimethicone,bis-peg/p-4/4dimethicone,squalane,,parfum/fragrance,,aluminumhydroxide,stearicacid,maltitol,vitaminE_acetate,di,aloeveraextract,vitaminC_derivative\",\"water,c2-5alkylbenzoate,glycerin,octocrylene,niacinamide,avobenzone,dimethicone,uvinul_t150,silica,,,meroxyl_sx,,drometrizoletrisiloxane,,stearylalcohol,glycerylstearate,vitaminE,hydroxyacetophenone,hydrolyzedhyaluronicacid,phenylethylresorcinol,,,,,,caprylylglycol,capryloylsalicylicacid(fllc25934/2)\",\"water,alcoholdenat,diisopropylsebacate,silica,isopropylmyristate,octisalate,uvinul_t150,tinosorb_S,avobenzone,glycerin,,,drometrizoletrisiloxane,perlite,caprylic/caprictriglyceride,vitaminE,hydroxyacetophenone,,sodiumhyaluronate,thermusthermophillusferment,,,,caprylylglycol,meroxyl_sx,,\",\"titaniumdioxide,cetearylalcohol,,,sodiumhyaluronate,starch,,silica,,palmiticacid,adenosine,vitaminC_derivative\",\"water,alcoholdenat,diisopropylsebacate,silica,isopropylmyristate,octisalate,uvinul_t150,tinosorb_S,avobenzone,glycerin,,,drometrizoletrisiloxane,perlite,vitaminE,caprylic/caprictriglyceride,,caprylylglycol,,meroxyl_sx,,,parfum/fragrance\",\"titaniumdioxide,,,2,9/,,methylenebis-benzotriazolyltetramethylbutyphenol[nano]//tinosorb_m,propyleneglycol,caprylylmethicone,pentyleneglycol,,aluminumhydroxide,butyleneglycol,caprylylglycol,dimethicone,,glycerin,,,acid,stearylalcohol,meroxyl_sx,\",\"water,alcoholdenat,diisopropylsebacate,silica,isopropylmyristate,octisalate,uvinul_t150,tinosorb_S,avobenzone,glycerin,,,drometrizoletrisiloxane,ci7789,perlite,vitaminE,caprylic/caprictriglyceride,,caprylylglycol,,2,9/,,meroxyl_sx,,,parfum/fragrance\",\"water,octinoxate,ethanol,,dimethicone,uvinul_t150,hexyldiethylaminohydroxybenzoylbenzoate,sodiumhyaluronate,phellodendronbarkextract,quinceseedextract,vitaminE_acetate,,,,,,methylparaben\",\"water,alcohol,octinoxate,ensulizole,uvinul_A_plus,isoamylp-methoxycinnamate,dimethicone,butyleneglycoldicaprylate/dicaprate,diethylhexylsebacate,arachidylalcohol,silica,uvinul_t150,disodiumphenyldibenzimidazoletetrasulfonate,butyleneglycol,portulacaoleraceaextract,,,behenylalcohol,,,uvasorb_heb,,tinosorb_m,tremellafuciformispolysaccharide,tinosorb_S,,fragrance,,,,citricacid,vitaminC_derivative,propyleneglycol,hydrolyzedsodiumhyaluronate,ectoin,carnosine,theobromacacao(cocoa)seedextract\",\"water,ethanol,octinoxate,isododecane,,silica,hexyldiethylaminohydroxybenzoylbenzoate,tinosorb_S,d,chamomileflowerextract,clematisvitalbaleafextract,camphorextract,horsetailextract,hypericumperforatumflower/leaf/stemextract,astragalusmembranaceusextract,calendulaofficinalisflowerextract,hyaluronicacidna,feverfewextract,cornflowerflowerextract,aroma,chamomileflowerextract,brownalgaeextract,water-solublecollagen,,,,,,tea,,acrylatescopolymer,,,,,squalane,stearicacid,inulin,,,methylparaben\",\"titaniumdioxide,silica,cottonseedextract,tealeafextract,auberginerootextract,horseradishseedextract,aloeveraextract,glycerin,,uvinul_t150,tinosorb_S,stearyldimethicone,,,aluminumhydroxide,,vitaminE_acetate,,isohexadecane,,,sorbitanoleate,vitaminE,,,,\",\"water,propyleneglycol,octinoxate,macadamiaternifoliaseedoil,uvinul_A_plus,trehalose,sodiumhyaluronate,simmondsiachinensis(jojoba)seedoil,malpighiaglabra(acerola)fruitextract,aloeveraextract,,,,,,butyleneglycol\",\"titaniumdioxide,tinosorb_S,uvinul_t150,,hydrogenated,uvinul_A_plus,silica,,,,dipentaerythrityltri-polyhydroxystearate,,,cetanol,glycerylstearate,,,,,,royaljellyextract,nahyaluronate,,,methylparaben,,,fragrance\",\"titaniumdioxide,,,aluminumhydroxide,hydrogendimethicone,methylparaben\",\"water,octinoxate,alcohol,butyleneglycol,diethylhexylsuccinate,tinosorb_S,uvinul_A_plus,hydrolyzedcollagen,arginine,silica,bis-peg-8methyletherdimethylsilane,tinosorb_m,,,,,,,,,,,,,,propyleneglycol,,glycerin\",\"titaniumdioxide,dimethicone,tinosorb_S,,cyclopentasiloxane,,diisostearylmalate,aluminumhydroxide,,stearicacid,,,,jojobaesters,,arginine,sodiumhyaluronate,alpha-glucan,,saxifragasarmentosaextract,glucosylceramide,prunusyedoensisleafextract,coixlacryma-jobi(jobstears)seedextract,morusalbarootextract,oenotherabiennisseedextract,silveroxide,spiraeaulmariaflowerextract,vacciniummyrtillusleafextract,cynarascolymus(artichoke)leafextract\",\"water,cyclopentasiloxane,zincoxide,silica,dimethicone,,,octinoxate,isononylisononanoate,,butyleneglycol,uvinul_A_plus,acrylates/dimethiconecopolymer,glycerin,,methylparaben,,,vitaminE_acetate,sodiumhyaluronate,sodiumacetylatedhyaluronate,panthenol,dipotassiumglycyrrhizate,hydrolyzedcollagen\",\"water,dibutyladipate,methyl,alcoholdenat,meroxyl_sx,,,uvinul_t150,glycerin,niacinamide,,,,caprylylmethicone,cetearylalcohol,uvinul_A_plus,,,palmiticacid,stearicacid,tinosorb_S,glycerylstearate,,,,,glycerylstearatecitrate,caprylic/caprictriglyceride,,camelliasinensisleafwater(940ppm),,adenosine,butyleneglycol,,,,mesembryanthemumcrystallinumextract,pentyleneglycol,caprylylglycol\",\"water,zincoxide,cyclohexasiloxane,butyloctisalate,,,,isododecane,caprylylmethicone,,,,,,,,,,lauryl,fragrance,,caprylylglycol,,sodiumhyaluronate,vitaminE,butyleneglycol,centellaasiaticaextract,centellaasiaticaextract,saccharomycesferment,centellaasiaticaextract,propolisextract,centellaasiaticaextract,centellaasiaticaextract,centellaasiaticaextract,centellaasiaticaextract\",\"titaniumdioxide,c4-22alcohols,,cetearylalcohol,aloeveraextract,dipotassiumglycyrrhizate,vitaminE_acetate,,silica,,dimethicone/vinyldimethiconecrosspolymer,aluminumhydroxide,stearicacid,caprylylglycol,,,,,,fragrance,,\",\"oryzasativa(rice)branwater,glycerin,,c2-5alkylbenzoate,,,behenylalcohol,uvinul_A_plus,niacinamide,tinosorb_S,,,,,silica,,sorbitanoleate,adenosine,butyleneglycol,,bifidafermentfiltrate,lactobacillusferment,lactococcusfermentlysate,streptococcusthermophilusferment\",\"ci7789,,,dibutyladipate,niacinamide,caprylylmethicone,,,,,,hydrogendimethicone,trehalose,aluminumhydroxide,c30-45alkylcetearyldimethiconecrosspolymer,stearicacid,prunusamygdalusamara(bitteralmond)kerneloil,camelliasinensisleafextract,,pyrusmalus(apple)leafextract,octyldodecanol,adenosine,vanillaplanifoliafruitextract,jasminumofficinale(jasmine)flowerextract,echiumplantagineumseedoil,salviahispanicaseedextract,centellaasiaticaextract,houttuyniacordataextract,fructooligosaccharides,saccharilysate,,cardiospermumhalicacabumflower/leaf/vineextract,helianthusannuus(sunflower)seedoil,,,,,vitaminE,helianthusannuus(sunflower)seedoil\",\"titaniumdioxide,aluminumhydroxide,stearicacid,cyclomethicone,,isohexadecane,zincoxide,methicone,octinoxate,isoamylp-methoxycinnamate,cyclopentasiloxane,enzacamene,glycerin,cetylpeg/p-0/dimethicone,,isononylisononanoate,beeswax,,sodiumhyaluronate,aloeveraextract,,hydrogenatedlecithin,linoleicacid,ceramidenp,,caprylic/caprictriglyceride,camelliajaponicaseedoil,,,parfum\",\"water,dibutyladipate,,uvinul_A_plus,,uvinul_t150,niacinamide,tinosorb_m,coco-caprylate/caprate,caprylylmethicone,uvasorb_heb,glycerin,,,butyleneglycol,pentyleneglycol,centellaasiaticaextract,behenylalcohol,,,,meliaazadirachtaleafextract,meliaazadirachtaflowerextract,,panthenol,vitaminE,dipotassiumglycyrrhizate,centellaasiaticaextract,centellaasiaticaextract,centellaasiaticaextract,centellaasiaticaextract,,,,,,adenosine,rosmarinusofficinalis(rosemary)leafoil,,\",\"water,butyleneglycol,octisalate,homosalate,dibutyladipate,niacinamide,tinosorb_S,cyclopentasiloxane,tinosorb_m,,uvinul_A_plus,pinuspinasterbarkextract,ceramidenp,centellaasiaticaextract,glycerin,portulacaoleraceaextract,houttuyniacordataextract,oleaeuropaea(olive)fruitoil,ficuscarica(fig)fruitextract,sodiumhyaluronate,,hydrogenatedlecithin,,,vitaminE,astaxanthin,hyaluronicacid,sodiumhyaluronatecrosspolymer,vitaminC_derivative,\",\"water,zincoxide,cyclohexasiloxane,butyloctisalate,,lauryl,coco-caprylate/caprate,caprylylmethicone,acrylatescopolymer,,,,,,,sorbitanisostearate,c30-45alkylcetearyldimethiconecrosspolymer,,lauryl,vitaminE,euphorbiacerifera(candelilla)wax,,,caprylic/caprictriglyceride,caprylylglycol,,,dipotassiumglycyrrhizate,stearoylinulin,polyglycerin-6,,,,butyleneglycol,,caesalpiniaspinosafruitextract,pinuspinasterbarkextract,kappaphycusalvareziiextract,centellaasiaticaextract,buddlejaofficinalisflowerextract,houttuyniacordataextract\",\"water,homosalate,alcoholdenat,octisalate,,avobenzone,silica,,tinosorb_S,isoamylp-methoxycinnamate,octocrylene,bis-peg/p-20/5peg/p-20/5dimethicone,methoxypeg/p-25/4dimethicone,dimethicone,caprylylglycol,,caprylic/caprictriglyceride,fragrance,,,,,,,limoniaacidissimaextract,butyleneglycol,,cyclopentasiloxane,acrylates/dimethiconecopolymer,chrysanthemumindicumflowerextract,camelliasinensisleafextract,,morusalbafruitextract,cinnamomumcassiabarkextract,artemisiaprincepsleafextract,diospyroskakileafextract,puerarialobatarootextract,thymusvulgaris(thyme)leafwater,centaureacyanusflowerwater,helichrysumitalicumflowerwater,limonene,hexylcinnamal,linalool,benzylsalicylate,geraniol,benzylbenzoate,citronellol\",\"water,alcohol,uvinul_A_plus,tinosorb_S,butyloctisalate,dibutyladipate,uvinul_t150,hexyllaurate,niacinamide,,caprylylmethicone,,chlorellavulgarisextract,betavulgaris(beet)rootextract,isoamylp-methoxycinnamate,,,,pentyleneglycol,butyleneglycol,glucose,,hydroxyacetophenone,,fructooligosaccharides,fructose,ethylhexylolivate,,,adenosine,,\",\"titaniumdioxide,uvinul_A_plus,hydrogenatedpoly(c6-4olefin),,,centellaasiaticaextract,,aluminumhydroxide,glycerylstearate,stearylalcohol,,stearicacid,,behenylalcohol,,ethylhexylstearate,,caprylylglycol,,,,centellaasiaticaextract,centellaasiaticaextract,centellaasiaticaextract,centellaasiaticaextract\",\"avobenzone(25),homosalate,octisalate,octocrylene,water,silica,,styrene_acrylates_copolymer,c2-5alkylbenzoate,,steareth-00,,,caprylylglycol,,dimethicone,,,,ethylhexylstearate,,propyleneglycol,neopentylglycoldiheptanoate,bisabolol,acrylates/dimethiconecopolymer,butyleneglycol,,,,,,sarcosine,cedrusatlanticabarkextract,cinnamomumzeylanicumbarkextract,portulacaoleraceaextract\",\"avobenzone,octinoxate(75),octisalate,water,c2-5alkylbenzoate,cetearylalcohol,dimethicone,cyclopentasiloxane,glycerin,arachidylalcohol,phenyltrimethicone,,cyclohexasiloxane,,benzylalcohol,panthenol,,behenylalcohol,,,,fragrance,,,,methylparaben,c3-4isoparaffin,feverfewextract,,sarcosine,,,\",\"water,homosalate,glycerin,octocrylene,octisalate,niacinamide,,avobenzone,cetearylalcohol,,glycerylstearate,dimethicone,stearicacid,ceramidenp,ceramideap,ceramideeop,,,,,sodiumhyaluronate,cholesterol,palmiticacid,,,,vitaminE,caprylylglycol,,phytosphingosine,\",\"titaniumdioxide,zincoxide,,sheabutter,caprylylglycol,cetylpeg/p-0/dimethicone,cyclopentasiloxane,dimethiconecrosspolymer,,,eucalyptusglobulusleafextract,glycerin,hexyllaurate,,panthenol,,,,,porphyraumbilicalis(redalgae)extract,silica,squalane,stearicacid,terminaliaferdinandiana(kakaduplum)fruitextract,vitaminE_acetate,,water,vitaminE\",\"zincoxide,octinoxate(75),water,cyclopentasiloxane,niacinamide,octyldodecylneopentanoate,,,,sodiumhyaluronate,vitaminE_acetate,lacticacid,,,butyleneglycol,,\"],\"index\":[0,1,2,3,4,5,6,7,8,9,10,11,12,13,14,15,16,17,18,19,20,21,22,23,24,25,26,27,28,29,30,31,32,33,34,35,36,37,38,39,40,41,42,43,44,45,46,47,48,49,50],\"ingredient_list\":[\"homosalate,octocrylene,octylsalicylate,butylmethoxydibenzoylmethane,phenoxyethanol,benzylalcohol\",\"aqua,alcoholdenat.,dibutyladipate,diethylaminohydroxybenzoylhexylbenzoate,glycerin,c12-15alkylbenzoate,ethylhexylsalicylate,diethylhexylbutamidotriazone,propylheptylcaprylate,vp/hexadecenecopolymer,bis-ethylhexyloxyphenolmethoxyphenyltriazine,triacontanylpvp,phenylbenzimidazolesulfonicacid,tocopherylacetate,acrylatescopolymer,microcrystallinecellulose,caprylylglycol,sodiumhydroxide,galactoarabinan,disodiumedta,ethylhexylglycerin,cellulosegum,acrylates/c10-30alkylacrylatecrosspolymer,citricacid,tocopherol.\",\"aqua,niacinamide,dibutyladipate,glycerin,ethylhexylsalicylate,butylmethoxydibenzoylmethane,diisopropylsebacate,phenylbenzimidazolesulfonicacid,c12-15alkylbenzoate,bis-ethylhexyloxyphenolmethoxyphenyltriazine,cetearylalcohol,glycerylstearatecitrate,ethylhexyltriazone,panthenol,sclerotiumgum,sodiumstearoylglutamate,propyleneglycol,glycyrrhizaglabrarootextract,sorbitol,tetrasodiumedta,sodiumhydroxide,citricacid,caprylylglycol,ethylhexylglycerin,phenoxyethanol.\",\"aqua,oleaeuropaeafruitoil,ci77891,alcoholdenat.,glycerin,zincoxide,carthamustinctoriusseedoil,prunusamygdalusdulcisoil,cetearylolivate,butyrospermumparkiibutter,lauryllaurate,sorbitanolivate,tricaprylin,camelliasinensisleafextract,centellaasiaticaleafextract,bambusaarundinaceastempowder,ci77492,ci77499,dehydroxanthangum,cetearylalcohol,ci77491,silica,ci75810,stearicacid,tocopherol,helianthusannuusseedoil,ascorbylpalmitate,parfum,limonene,linalool,benzylsalicylate,citral,geraniolingredientsfromcertifiedorganicagriculturefromnaturalessentialoils\",\"aqua,homosalate,polymethylsilsesquioxane,butylmethoxydibenzoylmethane,ethylhexylsalicylate,octocrylene,alcoholdenat,tapiocastarch,phenylbenzimidazolesulfonicacid,cyclomethicone,behenylalcohol,cetearylalcohol,methylpropanediol,silicadimethylsilylate,glycerin,carnitine,acidgliciretinic,glycyrrhizainflatarootextract,sodiumstearoylglutamate,acrylates-c10-30-alkyl-acrylate-crosspolymer,carbomer,xanthangum,sodiumhydroxide,sodiumchloride,trisodiumedta,ethylhexylglycerin,phenoxyethanol\",\"aqua,c12-15alkylbenzoate,glycerin,diethylaminohydroxybenzoylhexylbenzoate,ethylhexylsalicylate,titaniumdioxide(nano),octyldodecanol,dibutyladipate,alcoholdenat,cetearylalcohol,diethylhexylbutamidotriazone,glycerylstearatecitrate,glycerylstearatese,tapiocastarch,tocopherylacetate,helianthusannuusseedcera,caprylylglycol,aluminumhydroxide,stearicacid,glycerylrosinate,bis-ethylhexyloxyphenolmethoxyphenyltriazine,polyglyceryl-2sesquiisostearate,sodiumcetearylsulfate,xanthangum,phenylbenzimidazolesulfonicacid,acaciasenegalgum,sclerotiumgum,disodiumedta,disodiumphosphate,caprylhydroxamicacid,sodiumhydroxide,potassiumphosphate,ascorbylpalmitate,tocopherol,helianthusannuusseedoil\",\"aqua,glycerin,ethylhexylsalicylate,c12-15alkylbenzoate,methylpropanediol,cetearylalcohol,butylmethoxydibenzoylmethane,caprylic/caprictriglyceride,glycerylstearate,tapiocastarch,hydroxypropylstarchphosphate,bis-ethylhexyloxyphenolmethoxyphenyltriazine,distarchphosphate,glycyrrhizainflatarootextract,vitisviniferaseedoil,sodiumstearoylglutamate,butyrospermumparkiibutter,ethylhexylglycerin,hydroxyacetophenone,xanthangum,phenylbenzimidazolesulfonicacid,trisodiumedta,sodiumchloride,sodiumhydroxide,phenoxyethanol\",\"aqua,homosalate,alcoholdenat.,butylmethoxydibenzoylmethane,ethylhexylsalicylate,butyleneglycoldicaprylate/dicaprate,bis-ethylhexyloxyphenolmethoxyphenyltriazine,ethylhexyltriazone,isopropylpalmitate,phenylbenzimidazolesulfonicacid,silica,tapiocastarch,diethylaminohydroxybenzoylhexylbenzoate,behenylalcohol,cetearylalcohol,methylpropanediol,glycerin,glycyrrhizainflatarootextract,tocopherylacetate,sodiumstearoylglutamate,xanthangum,carbomer,acrylates/c10-30alkylacrylatecrosspolymer,sodiumchloride,sodiumhydroxide,dimethicone,trisodiumedta,caprylylglycol,ethylhexylglycerin\",\"aqua,alcoholdenat.,butylmethoxydibenzoylmethane,ethylhexyltriazone,bis-ethylhexyloxyphenolmethoxyphenyltriazine,isopropylpalmitate,c12-15alkylbenzoate,dibutyladipate,butyleneglycoldicaprylate/dicaprate,diethylaminohydroxybenzoylhexylbenzoate,glycerylstearate,glycerin,phenylbenzimidazolesulfonicacid,glycyrrhizainflatarootextract,aloebarbadensisleafjuicepowder,tocopherylacetate,microcrystallinecellulose,cellulosegum,c18-38alkylhydroxystearoylstearate,coperniciaceriferacera,hydrogenatedrapeseedoil,cetylpalmitate,xanthangum,sodiumstearoylglutamate,sodiumhydroxide,sodiumchloride,caprylylglycol,ethylhexylglycerin,trisodiumedta\",\"aqua,homosalate,butylmethoxydibenzoylmethane,ethylhexylsalicylate,butyleneglycoldicaprylate/dicaprate,alcoholdenat.,bis-ethylhexyloxyphenolmethoxyphenyltriazine,ethylhexyltriazone,isopropylpalmitate,phenylbenzimidazolesulfonicacid,silica,tapiocastarch,diethylaminohydroxybenzoylhexylbenzoate,behenylalcohol,cetearylalcohol,methylpropanediol,glycerin,glycyrrhizainflatarootextract,tocopherylacetate,sodiumstearoylglutamate,xanthangum,carbomer,acrylates/c10-30alkylacrylatecrosspolymer,dimethicone,sodiumchloride,sodiumhydroxide,trisodiumedta,ethylhexylglycerin,phenoxyethanol,linalool,limonene,benzylalcohol,alpha-isomethylionone,geraniol,citronellol,coumarin,parfum\",\"aqua,ethylhexylsalicylate,octocrylene,glycerin,butylmethoxydibenzoylmethane,cetearylalcohol,dimethicone,methylpropanediol,glycerylstearatecitrate,phenylbenzimidazolesulfonicacid,ubiquinone,creatine,1-methylhydantoin-2-imide,fucusvesiculosusextract,tocopherol,caprylic/caprictriglyceride,dicaprylylcarbonate,caprylylglycol,1,2-hexanediol,tapiocastarch,carbomer,acrylates/c10-30alkylacrylatecrosspolymer,sodiumsulfate,trisodiumedta,sodiumhydroxide,phenoxyethanol,limonene,linalool,benzylalcohol,alpha-isomethylionone,geraniol,parfum,ci42090\",\"aqua,glycerin,c12-15alkylbenzoate,diethylaminohydroxybenzoylhexylbenzoate,diisopropyladipate,ethylhexyltriazone,propanedioldicaprylate/caprate,bis-ethylhexyloxyphenol,methoxyphenyltriazine,potassiumcetylphosphate,myristylalcohol,phenoxyethanol,xanthangum,phenylbenzimidazolesulfonicacid,tocopherylacetate,parfum,sclerotiumgum,potassiumhydroxide,acaciasenegalgum,caprylhydroxamicacid,butyleneglycol,codiumtomentosumextract\",\"aqua,octocrylene,c12-15alkylbenzoate,glycerin,ethylhexylsalicylate,butylmethoxydibenzoylmethane,titaniumdioxide(nano),acrylatescopolymer,tocopherylacetate,carnosine,dimethicone,vp/hexadecenecopolymer,phenylbenzimidazolesulfonicacid,silica,hydrogendimethicone,acrylates/c10-30alkylacrylatecrosspolymer,caprylylglycol,caprylhydroxamicacid,sodiumhydroxide,tetrasodiumedta\",\"aqua,glycerin,c12-15alkylbenzoate,diethylaminohydroxybenzoylhexylbenzoate,propanedioldicaprylate/caprate,diisopropyladipate,ethylhexyltriazone,bis-ethylhexyloxyphenolmethoxyphenyltriazine,potassiumcetylphosphate,myristylalcohol,phenoxyethanol,xanthangum,phenylbenzimidazolesulfonicacid,tocopherylacetate,parfum,potassiumhydroxide,sclerotiumgum,acaciasenegalgum,caprylhydroxamicacid,sodiumhyaluronate,ubiquinone,limonene\",\"aqua,glycerin,c12-15alkylbenzoate,diethylaminohydroxybenzoylhexylbenzoate,diisopropyladipate,ethylhexyltriazone,propanedioldicaprylate/caprate,bis-ethylhexyloxyphenolmethoxyphenyltriazine,potassiumcetylphosphate,myristylalcohol,phenoxyethanol,xanthangum,phenylbenzimidazolesulfonicacid,tocopherylacetate,potassiumhydroxide,sclerotiumgum,acaciasenegalgum,caprylhydroxamicacid.\",\"aqua,c12-15alkylbenzoate,glycerin,butylmethoxydibenzoylmethane,ethylhexyltriazone,phenylbenzimidazolesulfonicacid,arginine,cetylalcohol,cocoglycerides,potassiumcetylphosphate,bis-ethylhexyloxyphenolmethoxyphenyltriazine,hydrogenatedpalmglycerides,coco-caprylate,hydrogenatedvegetableglycerides,sesamumindicumseedoil,tocopherylacetate,vitisviniferaseedoil,sodiumhyaluronate,helianthusannuusseedoil,tocopherol,sodiumchondroitinsulfate,atelocollagen,phenoxyethanol,panthenol,pentaerythrityltetraisostearate,ethylhexylglycerin,xanthangum,parfum,sclerotiumgum,disodiumedta,silicadimethylsilylate,linalool,butyleneglycol,limonene,pantolactone,benzylalcohol,benzylsalicylate,caprylylglycol,hexyleneglycol,alpha-isomethylionone,citronellol,citricacid\",\"aqua,glycerin,dibutyladipate,dicaprylylether,propylheptylcaprylate,methylenebis-benzotriazolyltetramethylbutylphenol(nano),sodiumcarboxymethylstarch,tris-biphenyltriazine(nano),zeamaysstarch,cetearylalcohol,ethylhexyltriazone,bis-ethylhexyloxyphenolmethoxyphenyltriazine,tocopherylacetate,butyrospermumparkiibutter,ethylhexylstearate,glycerylstearate,disodiumcetearylsulfosuccinate,1,2-hexanediol,physalispubescensfruitjuice,centellaasiaticaleafextract,diethylhexylsyringylidenemalonate,4-t-butylcyclohexanol,pentyleneglycol,tocopherol,allantoin,caprylic/caprictriglyceride,decylglucoside,propyleneglycol,butyleneglycol,hydroxypropylmethylcellulose,xanthangum,sodiumchloride,disodiumphosphate,citricacid,sodiumhydroxide,sorbicacid,benzylalcohol,ci47005,ci61570\",\"aqua/water,dimethicone,alcoholdenat,titaniumdioxide[nano],titaniumdioxide,butyleneglycol,isododecane,peg-10dimethicone,phenyltrimethicone,bis-peg/ppg-14/14dimethicone,squalane,syntheticfluorphlogopite,parfum/fragrance,magnesiumsulfate,aluminumhydroxide,stearicacid,maltitol,tocopherylacetate,disodiumstearoylglutamate,aloebarbadensisleafjuicepowder,ascorbylglucoside,citrusgrandisfruitwater/grapefruitfruitwater,linalool,benzylsalicylate,limonene,benzylalcohol,sorbitol,sodiumhyaluronate,perlite,geraniol,citralmaycontain:ci77891/titaniumdioxide,ci77491,ci77492,ci77499/ironoxides\",\"aqua/water,c12-15alkylbenzoate,glycerin,octocrylene,niacinamide,butylmethoxydibenzoylmethane,dimethicone,ethylhexyltriazone,silica,aluminumstarchoctenylsuccinate,vinyldimethicone/methiconesilsesquioxanecrosspolymer,terephthalylidenedicamphorsulfonicacid,potassiumcetylphosphate,drometrizoletrisiloxane,peg-100stearate,stearylalcohol,glycerylstearate,tocopherol,hydroxyacetophenone,hydrolyzedhyaluronicacid,phenylethylresorcinol,triethanolamine,trisodiumethylenediaminedisuccinate,poloxamer338,ammoniumpolyacryloyldimethyltaurate,xanthangum,caprylylglycol,capryloylsalicylicacid(fllc259134/2)\",\"aqua/water,alcoholdenat,diisopropylsebacate,silica,isopropylmyristate,ethylhexylsalicylate,ethylhexyltriazone,bis-ethylhexyloxyphenolmethoxyphenyltriazine,butylmethoxydibenzoylmethane,glycerin,c12-22alkylacrylate/hydroxyethylacrylatecopolymer,propanediol,drometrizoletrisiloxane,perlite,caprylic/caprictriglyceride,tocopherol,hydroxyacetophenone,hydroxyethylcellulose,sodiumhyaluronate,thermusthermophillusferment,phenoxyethanol,triethanolamine,trisodiumethylenediaminedisuccinate,caprylylglycol,terephthalylidenedicamphorsulfonicacid,acrylates/c10-30alkylacrylatecrosspolymer,potassiumsorbate\",\"aqua/water,glycerin,ethylhexylsalicylate,dimethicone,phenylbenzimidazolesulfonicacid,bis-ethylhexyloxyphenolmethoxyphenyltriazine,triethanolamine,butylmethoxydibenzoylmethane,octyldodecanol,isopropylisostearate,cetylalcohol,behenylalcohol,citruslimonfruitextract/lemonfruitextract,citrusparadisifruitextract/grapefruitfruitextract,tinoxide,stearicacid,titaniumdioxide,cetearylalcohol,cetearylglucoside,peg-100stearate,sodiumhyaluronate,sodiumpolyacrylatestarch,sodiumstearoylglutamate,silica,myristicacid,palmiticacid,adenosine,ascorbylglucoside,hydroxyacetophenone,capryloylsalicylicacid,citricacid,trisodiumethylenediaminedisuccinate,polyc10-30alkylacrylate,chlorphenesin,mica,ci77891/titaniumdioxide,linalool,geraniol,limonene,citronellol,parfum/fragrance\",\"aqua/water,alcoholdenat,diisopropylsebacate,silica,isopropylmyristate,ethylhexylsalicylate,ethylhexyltriazone,bis-ethylhexyloxyphenolmethoxyphenyltriazine,butylmethoxydibenzoylmethane,glycerin,c12-22alkylacrylate/hydroxyethylacrylatecopolymer,propanediol,drometrizoletrisiloxane,perlite,tocopherol,caprylic/caprictriglyceride,acrylates/c10-30alkylacrylatecrosspolymer,caprylylglycol,hydroxyethylcellulose,terephthalylidenedicamphorsulfonicacid,triethanolamine,trisodiumethylenediaminedisuccinate,parfum/fragrance\",\"aqua/water,homosalate,ci77891/titaniumdioxide,silica,ethylhexylsalicylate,ethylhexylriazone,c12-15alkylbenzoate,bis-ethylhexyloxyphenolmethoxyphenyltriazine,drometrizoletrisiloxane,butylmethoxydibenzoylmethane,octocrylene,styrene/acrylatescopolymer,titaniumdioxide[nano]/titaniumdioxide,aluminumstarchoctenylsuccinate,c177491,c177492,c177499/ironoxides,potassiumcetylphosphate,methylenebis-benzotriazolyltetramethylbutyphenol[nano]//methylenebis-benzotriazolyltetramethylbutylphenol,propyleneglycol,caprylylmethicone,pentyleneglycol,acrylates/c10-30alkylacrylatecrosspolymer,aluminumhydroxide,butyleneglycol,caprylylglycol,dimethicone,disodiumedta,glycerin,inulinlaurylcarbamate,peg-8laurate,phenoxyethanolacid,stearylalcohol,terephthalylidenetriethanolamine,xanthangum\",\"aqua/water,alcoholdenat,diisopropylsebacate,silica,isopropylmyristate,ethylhexylsalicylate,ethylhexyltriazone,bis-ethylhexyloxyphenolmethoxyphenyltriazine,butylmethoxydibenzoylmethane,glycerin,c12-22alkylacrylate/hydroxyethylacrylatecopolymer,propanediol,drometrizoletrisiloxane,ci77891/titaniumdioxide,perlite,tocopherol,caprylic/caprictriglyceride,acrylates/c10-30alkylacrylatecrosspolymer,caprylylglycol,ci77491,ci77492,ci77499/ironoxides,hydroxyethylcellulose,terephthalylidenedicamphorsulfonicacid,triethanolamine,trisodiumethylenediaminedisuccinate,parfum/fragrance\",\"water,ethylhexylmethoxycinnamate,ethanol,pg,dimethicone,ethylhexyltriazone,hexyldiethylaminohydroxybenzoylbenzoate,sodiumhyaluronate,phellodendronbarkextract,quinceseedextract,tocopherolacetate,acrylates/alkylacrylatec10-30crosspolymer,carbomer,ceteth-10,nahydroxide,bht,methylparaben\",\"water,alcohol,ethylhexylmethoxycinnamate,phenylbenzimidazolesulfonicacid,diethylaminohydroxybenzoylhexylbenzoate,isoamylp-methoxycinnamate,dimethicone,butyleneglycoldicaprylate/dicaprate,diethylhexylsebacate,arachidylalcohol,silica,ethylhexyltriazone,disodiumphenyldibenzimidazoletetrasulfonate,butyleneglycol,portulacaoleraceaextract,sodiumhydroxide,phenoxyethanol,behenylalcohol,sodiumcitrate,polysorbate60,diethylhexylbutamidotriazone,arachidylglucoside,methylenebis-benzotriazolyltetramethylbutylphenol,tremellafuciformispolysaccharide,bis-ethylhexyloxyphenolmethoxyphenyltriazine,xanthangum,fragrance,ethylhexylglycerin,disodiumedta,decylglucoside,citricacid,sodiumascorbylphosphate,propyleneglycol,hydrolyzedsodiumhyaluronate,ectoin,carnosine,theobromacacao(cocoa)seedextract\",\"water,ethanol,ethylhexylmethoxycinnamate,isododecane,polysilicone-15,silica,hexyldiethylaminohydroxybenzoylbenzoate,bisethylhexyloxyphenolmethoxyphenyltriazine,dpg,chamomileflowerextract,clematisvitalbaleafextract,camphorextract,horsetailextract,hypericumperforatumflower/leaf/stemextract,astragalusmembranaceusextract,calendulaofficinalisflowerextract,hyaluronicacidna,chrysanthemumpartheniumextract,cornflowerflowerextract,aroma,chamomileflowerextract,brownalgaeextract,water-solublecollagen,bg,bht,edta2na,peg-10hydrogenatedcastoroil,peg-40hydrogenatedcastoroil,tea,(acrylicacid/alkylacrylate(c10-30))copolymer,acrylatescopolymer,xanthangum,capricacid,pg,silicadimethylsilylate,squalane,stearicacid,inulin,polyhydroxystearicacid,phenoxyethanol,methylparaben\",\"water,bg,ethylhexylmethoxycinnamate,hydrogenatedpolyisobutene,cetylethylhexanoate,diethylaminohydroxybenzoylhexylbenzoate,titaniumoxide,silica,cottonseedextract,tealeafextract,auberginerootextract,horseradishseedextract,aloeveraleafextract,glycerin,peg-12dimethicone,ethylhexyltriazone,bisethylhexyloxyphenolmethoxyphenyltriazine,stearyldimethicone,triethoxycaprylylsilane,(acrylicacidna/acryloyldimethyltaurinena)copolymer,aluminumhydroxide,polyglyceryldistearate-3methylglucose,tocopherolacetate,xanthangum,isohexadecane,hydroussilica,polysorbate80,sorbitanoleate,tocopherol,2naphosphate,cuphosphate,bht,phenoxyethanol\",\"water,propyleneglycol,ethylhexylmethoxycinnamate,macadamiaternifoliaseedoil,diethylaminohydroxybenzoylhexylbenzoate,trehalose,sodiumhyaluronate,simmondsiachinensis(jojoba)seedoil,malpighiaglabra(acerola)fruitextract,aloebarbadensisleafextract,rubusidaeus(raspberry)fruitextract,acrylates/c10-30alkylacrylatecrosspolymer,polyglyceryl-10stearate,potassiumhydroxide,disodiumedta,bht,butyleneglycol\",\"water,ethylhexylmethoxycinnamate,ethanol,bg,isopropylpalmitate,titaniumoxide,bisethylhexyloxyphenolmethoxyphenyltriazine,ethylhexyltriazone,dimethiconecrosspolymer(laurylmethacrylate/namethacrylate),hydrogenatedpolyisobutene,diethylaminohydroxybenzoylhexylbenzoate,silica,hydroussilica,mica,dextrinpalmitate,dipentaerythrityltri-polyhydroxystearate,acrylates/alkylacrylatec10-30crosspolymer,triethoxycaprylylsilane,cetanol,glycerylstearate,hydroxyethylcellulose,polysorbate60,polysilicone-9,alhydroxide,khydroxide,royaljellyextract,nahyaluronate,tinoxide,phenoxyethanol,methylparaben,edta2na,bht,fragrance\",\"water,ethylhexylmethoxycinnamate,isononylisononanoate,dimethicone,alcohol,butyleneglycol,peg-12dimethicone,pentyleneglycol,polysilicone-15,glycoldimethacrylatecrosspolymer,bis-ethylhexyloxyphenolmethoxyphenyltriazine,magnesiumascorbylphosphate,hydrolyzedhyaluronicacid,sodiumhyaluronate,diethylaminohydroxybenzoylhexylbenzoate,polysilicone-13,phenoxyethanol,carbomer,triethanolamine,polystyrene,polyvinylalcohol,hydroxyethylcellulose,disodiumedta,iodopropynylbutylcarbamate,acrylates/c10-30alkylacrylatecrosspolymer,titaniumdioxide,ammoniumacrylatescopolymer,hydratedsilica,aluminumhydroxide,hydrogendimethicone,methylparaben\",\"water,ethylhexylmethoxycinnamate,alcohol,butyleneglycol,diethylhexylsuccinate,bisethylhexyloxyphenolmethoxyphenyltriazine,diethylaminohydroxybenzoylhexylbenzoate,hydrolyzedcollagen,arginine,silica,bis-peg-18methyletherdimethylsilane,methylenebis-benzotriazolyltetramethylbutylphenol,triethylhexanoin,peg-40glycerylstearate,glycoldimethacrylatecrosspolymer,acrylates/c10-30alkylacrylatecrosspolymer,phenoxyethanol,polysilicone-13,triethanolamine,decylglucoside,xanthangum,disodiumedta,polystyrene,polyvinylalcohol,polyglyceryl-10pentaisostearate,propyleneglycol,biosaccharidegum-4,glycerin\",\"water,ethylhexylmethoxycinnamate,butyleneglycol,diethylaminohydroxybenzoylhexylbenzoate,zincoxide,methylheptyllaurate,titaniumdioxide,dimethicone,bis-ethylhexyloxyphenolmethoxyphenyltriazine,polymethylsilsesquioxane,cyclopentasiloxane,hydroxyethylacrylate/sodiumacryloyldimethyltauratecopolymer,diisostearylmalate,aluminumhydroxide,peg-60hydrogenatedcastoroil,stearicacid,phenoxyethanol,polyglyceryl-3polydimethylsiloxyethyldimethicone,polyhydroxystearicacid,jojobaesters,xanthangum,arginine,sodiumhyaluronate,alpha-glucan,phyticacid,saxifragasarmentosaextract,glucosylceramide,prunusyedoensisleafextract,coixlacryma-jobi(jobstears)seedextract,morusalbarootextract,oenotherabiennisseedextract,silveroxide,spiraeaulmariaflowerextract,vacciniummyrtillusleafextract,cynarascolymus(artichoke)leafextract\",\"water,cyclopentasiloxane,zincoxide,silica,dimethicone,triethoxysilylethylpolydimethylsiloxyethylhexyldimethicone,laurylpeg-9polydimethylsiloxyethyldimethicone,ethylhexylmethoxycinnamate,isononylisononanoate,polymethylsilsesquioxane,butyleneglycol,diethylaminohydroxybenzoylhexylbenzoate,acrylates/dimethiconecopolymer,glycerin,lauroyllysine,methylparaben,propylparaben,disodiumedta,tocopherylacetate,sodiumhyaluronate,sodiumacetylatedhyaluronate,panthenol,dipotassiumglycyrrhizate,hydrolyzedcollagen\",\"water,dibutyladipate,methylpropanediol,alcoholdenat,terephthalylidenedicamphorsulfonicacid,1,2-hexanediol,ethylhexyltriazone,glycerin,niacinamide,polysilicone-15,tromethamine,polyglyceryl-3distearate,caprylylmethicone,cetearylalcohol,diethylaminohydroxybenzoylhexylbenzoate,dipropyleneglycol,polymethylsilsesquioxane,palmiticacid,stearicacid,bis-ethylhexyloxyphenolmethoxyphenyltriazine,glycerylstearate,potassiumcetylphosphate,polyether-1,carbomer,ammoniumacryloyldimethyltaurate/vpcopolymer,glycerylstearatecitrate,caprylic/caprictriglyceride,acrylates/c10-30alkylacrylatecrosspolymer,camelliasinensisleafwater(940ppm),ethylhexylglycerin,adenosine,butyleneglycol,menthyllactate,ethylmenthanecarboxamide,methyldiisopropylpropionamide,mesembryanthemumcrystallinumextract,pentyleneglycol,caprylylglycol\",\"water,zincoxide,cyclohexasiloxane,butyloctylsalicylate,propanediol,propylheptylcaprylate,polyglyceryl-3polydimethylsiloxyethyldimethicone,isododecane,caprylylmethicone,methylmethacrylatecrosspolymer,methyltrimethicone,disteardimoniumhectorite,magnesiumsulfate,triethoxycaprylylsilane,1,2-hexanediol,polyglyceryl-2dipolyhydroxystearate,polymethylsilsesquioxane,laurylpolyglyceryl-3polydimethylsiloxyethyldimethicone,fragrance,glycerylcaprylate,caprylylglycol,ethylhexylglycerin,sodiumhyaluronate,tocopherol,butyleneglycol,centellaasiaticaextract,centellaasiaticarootextract,saccharomycesferment,centellaasiaticaleafextract,propolisextract,asiaticoside,madecassoside,madecassicacid,asiaticacid\",\"water,ethylhexylmethoxycinnamate,glycerin,propyleneglycol,cyclopentasiloxane,bis-ethylhexyloxyphenolmethoxyphenyltriazine,phenylbenzimidazolesulfonicacid,dicaprylylcarbonate,isoamylp-methoxycinnamate,potassiumcetylphosphate,alcohol,dimethicone,glycerylstearate,butyleneglycol,titaniumdioxide,c14-22alcohols,polymethylmethacrylate,cetearylalcohol,aloearborescensleafextract,dipotassiumglycyrrhizate,tocopherylacetate,peg-100stearate,silica,c12-20alkylglucoside,dimethicone/vinyldimethiconecrosspolymer,aluminumhydroxide,stearicacid,caprylylglycol,acrylates/c10-30alkylacrylatecrosspolymer,carbomer,xanthangum,triethanolamine,sodiumhydroxide,fragrance,phenoxyethanol,disodiumedta\",\"oryzasativa(rice)branwater,glycerin,methylmethacrylatecrosspolymer,c12-15alkylbenzoate,1,2-hexanediol,behenylalcohol,diethylaminohydroxybenzoylhexylbenzoate,niacinamide,bis-ethylhexyloxyphenolmethoxyphenyltriazine,sodiumacrylate/sodiumacryloyldimethyltauratecopolymer,potassiumcetylphosphate,ammoniumacryloyldimethyltaurate/vpcopolymer,polyisobutene,silica,caprylyl/caprylglucoside,sorbitanoleate,adenosine,butyleneglycol,disodiumedta,bifidafermentfiltrate,lactobacillusferment,lactococcusfermentlysate,streptococcusthermophilusferment\",\"water,cyclohexasiloxane,zincoxide,titaniumdioxide(ci77891),propanediol,polyglyceryl-3polydimethylsiloxyethyldimethicone,dibutyladipate,niacinamide,caprylylmethicone,1,2-hexanediol,disteardimoniumhectorite,sorbitansesquioleate,magnesiumsulfate,hydrogendimethicone,trehalose,aluminumhydroxide,c30-45alkylcetearyldimethiconecrosspolymer,stearicacid,prunusamygdalusamara(bitteralmond)kerneloil,camelliasinensisleafextract,ethylhexylglycerin,pyrusmalus(apple)leafextract,octyldodecanol,adenosine,vanillaplanifoliafruitextract,jasminumofficinale(jasmine)flowerextract,echiumplantagineumseedoil,salviahispanicaseedextract,centellaasiaticaextract,houttuyniacordataextract,fructooligosaccharides,saccharidehydrolysate,pullulan,cardiospermumhalicacabumflower/leaf/vineextract,helianthusannuus(sunflower)seedoilunsaponifiables,biosaccharidegum-4,polyglyceryl-2dipolyhydroxystearate,undecane,tridecane,tocopherol,helianthusannuus(sunflower)seedoil\",\"water,microparticletitaniumdioxide,aluminumhydroxide,stearicacid,cyclomethicone,peg-10dimethicone,isohexadecane,microparticlezincoxide,methicone,ethylhexylmethoxycinnamate,isoamylp-methoxycinnamate,cyclopentasiloxane,4-methylbenzylidenecamphor,glycerin,cetylpeg/ppg-10/1dimethicone,disteardimoniumhectorite,isononylisononanoate,beeswax,ozokerite,sodiumhyaluronate,aloebarbadensisleafextract,camelliasinensisleafextract,collagenextract,myrciariadubiafruitextract,malpighiaemarginata(acerola)fruitextract,magnesiumsulfate,hydrogenatedlecithin,linoleicacid,ceramidenp,tea-cocoylglutamate,caprylic/caprictriglyceride,camelliajaponicaseedoil,phenoxyethanol,ethylhexylglycerin,parfum\",\"aqua(water),dibutyladipate,propanediol,diethylaminohydroxybenzoylhexylbenzoate,polymethylsilsesquioxane,ethylhexyltriazone,niacinamide,methylenebis-benzotriazolyltetramethylbutylphenol,coco-caprylate/caprate,caprylylmethicone,diethylhexylbutamidotriazone,glycerin,1,2-hexanediol,butyleneglycol,pentyleneglycol,centellaasiaticaextract,behenylalcohol,polyc10-30alkylacrylate,polyglyceryl-3methylglucosedistearate,decylglucoside,meliaazadirachtaleafextract,meliaazadirachtaflowerextract,acrylates/c10-30alkylacrylatecrosspolymer,panthenol,tocopherol,dipotassiumglycyrrhizate,madecassoside,madecassicacid,asiaticoside,asiaticacid,tromethamine,carbomer,sodiumstearoylglutamate,polyacrylatecrosspolymer-6,ethylhexylglycerin,adenosine,rosmarinusofficinalis(rosemary)leafoil,xanthangum,t-butylalcohol\",\"water,butyleneglycol,ethylhexylsalicylate,homosalate,dibutyladipate,niacinamide,bis-ethylhexyloxyphenolmethoxyphenyltriazine,cyclopentasiloxane,methylenebis-benzotriazolyltetramethylbutylphenol,polysilicone-15,diethylaminohydroxybenzoylhexylbenzoate,pinuspinasterbarkextract,ceramidenp,centellaasiaticaextract,glycerin,portulacaoleraceaextract,houttuyniacordataextract,oleaeuropaea(olive)fruitoil,ficuscarica(fig)fruitextract,sodiumhyaluronate,ceteth-10,hydrogenatedlecithin,decylglucoside,propanediol,tocopherol,astaxanthin,hyaluronicacid,sodiumhyaluronatecrosspolymer,ascorbylpropylhyaluronate,hydrolyzedhyaluronicacid,hydroxypropyltrimoniumhyaluronate,c10-30alkylacrylatecrosspolymer,sodiumacetylatedhyaluronate,hydrolyzedsodiumhyaluronate,adenosine,dimethicone,tromethamine,carbomer,propyleneglycol,ethylhexylglycerin\",\"water,zincoxide,cyclohexasiloxane,butyloctylsalicylate,propanediol,laurylpolyglyceryl-3polydimethylsiloxyethyldimethicone,coco-caprylate/caprate,caprylylmethicone,acrylatescopolymer,polyglyceryl-4isostearate,diphenylsiloxyphenyltrimethicone,magnesiumsulfate,disteardimoniumhectorite,polyglyceryl-3polyricinoleate,triethoxycaprylylsilane,sorbitanisostearate,c30-45alkylcetearyldimethiconecrosspolymer,sorbitanolivate,laurylpolyglyceryl-3polydimethylsiloxyethyldimethicone,tocopherol,euphorbiacerifera(candelilla)wax,polyhydroxystearicacid,glycerylcaprylate,caprylic/caprictriglyceride,caprylylglycol,polyglyceryl-6polyricinoleate,polyglyceryl-6polyhydroxystearate,dipotassiumglycyrrhizate,stearoylinulin,polyglycerin-6,1,2-hexanediol,disodiumedta,butyleneglycol,ethylhexylglycerin,caesalpiniaspinosafruitextract,pinuspinasterbarkextract,kappaphycusalvareziiextract,centellaasiaticaextract,buddlejaofficinalisflowerextract,houttuyniacordataextract\",\"water,homosalate,alcoholdenat,ethylhexylsalicylate,dipropyleneglycol,butylmethoxydibenzoylmethane,silica,methylmethacrylatecrosspolymer,bis-ethylhexyloxyphenolmethoxyphenyltriazine,isoamylp-methoxycinnamate,octocrylene,bis-peg/ppg-20/5peg/ppg-20/5dimethicone,methoxypeg/ppg-25/4dimethicone,dimethicone,caprylylglycol,acrylates/c10-30alkylacrylatecrosspolymer,caprylic/caprictriglyceride,fragrance,ethylhexylglycerin,sodiumhydroxide,1,2-hexanediol,bht,disodiumedta,limoniaacidissimaextract,butyleneglycol,vp/hexadecenecopolymer,cyclopentasiloxane,acrylates/dimethiconecopolymer,chrysanthemumindicumflowerextract,camelliasinensisleafextract,phenoxyethanol,morusalbafruitextract,cinnamomumcassiabarkextract,artemisiaprincepsleafextract,diospyroskakileafextract,puerarialobatarootextract,thymusvulgaris(thyme)leafwater,centaureacyanusflowerwater,helichrysumitalicumflowerwater,limonene,hexylcinnamal,linalool,benzylsalicylate,geraniol,benzylbenzoate,citronellol\",\"water,alcohol,diethylaminohydroxybenzoylhexylbenzoate,bis-ethylhexyloxyphenolmethoxyphenyltriazine,butyloctylsalicylate,dibutyladipate,ethylhexyltriazone,hexyllaurate,niacinamide,polymethylsilsesquioxane,caprylylmethicone,sodiumacrylatescrosspolymer-2,chlorellavulgarisextract,betavulgaris(beet)rootextract,isoamylp-methoxycinnamate,polysilicone-15,1,2-hexanediol,pentyleneglycol,butyleneglycol,glucose,sodiumpolyacryloyldimethyltaurate,hydroxyacetophenone,polyacrylatecrosspolymer-6,fructooligosaccharides,fructose,ethylhexylolivate,sodiumacrylatescopolymer,polyglyceryl-4oleate,adenosine,ethylhexylglycerin,disodiumedta\",\"water,butyloctylsalicylate,dibutyladipate,propanediol,butyleneglycol,bis-ethylhexyloxyphenolmethoxyphenyltriazine,ethylhexyltriazone,dicaprylylcarbonate,titaniumdioxide,diethylaminohydroxybenzoylhexylbenzoate,hydrogenatedpoly(c6-14olefin),1,2-hexanediol,centellaasiaticaextract,polyglyceryl-2stearate,aluminumhydroxide,glycerylstearate,stearylalcohol,sodiumpolyacrylate,stearicacid,polyhydroxystearicacid,behenylalcohol,polymethylsilsesquioxane,ethylhexylstearate,ammoniumacryloyldimethyltaurate/vpcopolymer,caprylylglycol,trideceth-6,ethylhexylglycerin,xanthangum,madecassoside,asiaticoside,asiaticacid,madecassicacid\",\"avobenzone(2.5),homosalate(8),octisalate(5),octocrylene(8),water,silica,cetyldimethicone,styrene/acrylatescopolymer,c12-15alkylbenzoate,ethylhexylglycerin,steareth-100,aluminumstarchoctenylsuccinate,phenoxyethanol,caprylylglycol,sodiumpolyacrylate,dimethicone,polyester-7,chlorphenesin,steareth-2,ethylhexylstearate,disodiumedta,propyleneglycol,neopentylglycoldiheptanoate,bisabolol,acrylates/dimethiconecopolymer,butyleneglycol,bht,mannan,xanthangum,capryloylglycine,trideceth-6,sarcosine,cedrusatlanticabarkextract,cinnamomumzeylanicumbarkextract,portulacaoleraceaextract\",\"avobenzone(3),octinoxate(7.5),octisalate(2),water,c12-15alkylbenzoate,cetearylalcohol,dimethicone,cyclopentasiloxane,glycerin,arachidylalcohol,phenyltrimethicone,phenoxyethanol,cyclohexasiloxane,cetearylglucoside,benzylalcohol,panthenol,ethylene/acrylicacidcopolymer,behenylalcohol,steareth-2,sodiumcocoylaminoacids,polyacrylamide,fragrance,steareth-21,arachidylglucoside,disodiumedta,methylparaben,c13-14isoparaffin,chrysanthemumparthenium(feverfew)flower/leaf/stemjuice,pentaerythrityltetra-di-t-butylhydroxyhydrocinnamate,sarcosine,laureth-7,potassiumaspartate,magnesiumaspartate\",\"aqua/water,homosalate,glycerin,octocrylene,ethylhexylsalicylate,niacinamide,aluminumstarchoctenylsuccinate,butylmethoxydibenzoylmethane,cetearylalcohol,peg-100stearate,glycerylstearate,dimethicone,stearicacid,ceramidenp,ceramideap,ceramideeop,carbomer,behentrimoniummethosulfate,sodiumlauroyllactylate,myristicacid,sodiumhyaluronate,cholesterol,palmiticacid,phenoxyethanol,ammoniumpolyacryloyldimethyltaurate,disodiumedta,tocopherol,caprylylglycol,xanthangum,phytosphingosine,ethylhexylglycerin\",\"titaniumdioxide(4),zincoxide(4),alumina,butyrospermumparkii(shea)butter,caprylylglycol,cetylpeg/ppg-10/1dimethicone,cyclopentasiloxane,dimethiconecrosspolymer,disodiumedta,disteardimoniumhectorite,eucalyptusglobulusleafextract,glycerin,hexyllaurate,ironoxides,panthenol,peg-10dimethicone,phenoxyethanol,polyglyceryl-4isostearate,polymethylsilsesquioxane,porphyraumbilicalis(redalgae)extract,silica,squalane,stearicacid,terminaliaferdinandiana(kakaduplum)fruitextract,tocopherylacetate,triethoxycaprylylsilane,water,vitamine\",\"zincoxide(9.0),octinoxate(7.5),purifiedwater,cyclopentasiloxane,niacinamide,octyldodecylneopentanoate,hydroxyethylacrylate/sodiumacryloyldimethyltauratecopolymer,polyisobutene,peg-7trimethylolpropanecoconutether,sodiumhyaluronate,tocopherylacetate,lacticacid,oleth-3phosphate,phenoxyethanol,butyleneglycol,iodopropynylbutylcarbamate,triethoxycaprylylsilane\"]},\"selected\":{\"id\":\"1167\"},\"selection_policy\":{\"id\":\"1168\"}},\"id\":\"1108\",\"type\":\"ColumnDataSource\"},{\"attributes\":{},\"id\":\"1166\",\"type\":\"BasicTickFormatter\"},{\"attributes\":{\"bottom_units\":\"screen\",\"fill_alpha\":0.5,\"fill_color\":\"lightgrey\",\"left_units\":\"screen\",\"level\":\"overlay\",\"line_alpha\":1.0,\"line_color\":\"black\",\"line_dash\":[4,4],\"line_width\":2,\"right_units\":\"screen\",\"syncable\":false,\"top_units\":\"screen\"},\"id\":\"1134\",\"type\":\"BoxAnnotation\"},{\"attributes\":{},\"id\":\"1163\",\"type\":\"BasicTickFormatter\"},{\"attributes\":{},\"id\":\"1118\",\"type\":\"LinearScale\"},{\"attributes\":{\"axis_label\":\"t-SNE 1\",\"formatter\":{\"id\":\"1163\"},\"major_label_policy\":{\"id\":\"1162\"},\"ticker\":{\"id\":\"1121\"}},\"id\":\"1120\",\"type\":\"LinearAxis\"},{\"attributes\":{\"axis\":{\"id\":\"1124\"},\"dimension\":1,\"ticker\":null},\"id\":\"1127\",\"type\":\"Grid\"},{\"attributes\":{\"source\":{\"id\":\"1108\"}},\"id\":\"1146\",\"type\":\"CDSView\"},{\"attributes\":{},\"id\":\"1121\",\"type\":\"BasicTicker\"},{\"attributes\":{},\"id\":\"1162\",\"type\":\"AllLabels\"},{\"attributes\":{\"overlay\":{\"id\":\"1134\"}},\"id\":\"1130\",\"type\":\"BoxZoomTool\"},{\"attributes\":{},\"id\":\"1167\",\"type\":\"Selection\"},{\"attributes\":{},\"id\":\"1131\",\"type\":\"SaveTool\"},{\"attributes\":{\"fill_alpha\":{\"value\":0.1},\"fill_color\":{\"value\":\"#c0a5e3\"},\"line_alpha\":{\"value\":0.1},\"line_color\":{\"value\":\"#c0a5e3\"},\"size\":{\"value\":10},\"x\":{\"field\":\"X\"},\"y\":{\"field\":\"Y\"}},\"id\":\"1144\",\"type\":\"Circle\"},{\"attributes\":{},\"id\":\"1132\",\"type\":\"ResetTool\"},{\"attributes\":{\"fill_alpha\":{\"value\":0.7},\"fill_color\":{\"value\":\"#c0a5e3\"},\"line_color\":{\"value\":\"#c0a5e3\"},\"size\":{\"value\":10},\"x\":{\"field\":\"X\"},\"y\":{\"field\":\"Y\"}},\"id\":\"1143\",\"type\":\"Circle\"},{\"attributes\":{},\"id\":\"1128\",\"type\":\"PanTool\"},{\"attributes\":{},\"id\":\"1125\",\"type\":\"BasicTicker\"}],\"root_ids\":[\"1109\"]},\"title\":\"Bokeh Application\",\"version\":\"2.3.3\"}};\n  var render_items = [{\"docid\":\"0e4e052f-4340-4c2e-8707-f1e4ae59f3ac\",\"notebook_comms_target\":\"1170\",\"root_ids\":[\"1109\"],\"roots\":{\"1109\":\"f7e1d97c-0b9b-44af-8847-365f69255602\"}}];\n  root.Bokeh.embed.embed_items_notebook(docs_json, render_items);\n\n  }\n  if (root.Bokeh !== undefined) {\n    embed_document(root);\n  } else {\n    var attempts = 0;\n    var timer = setInterval(function(root) {\n      if (root.Bokeh !== undefined) {\n        clearInterval(timer);\n        embed_document(root);\n      } else {\n        attempts++;\n        if (attempts > 100) {\n          clearInterval(timer);\n          console.log(\"Bokeh: ERROR: Unable to run BokehJS code because BokehJS library is missing\");\n        }\n      }\n    }, 10, root)\n  }\n})(window);",
      "application/vnd.bokehjs_exec.v0+json": ""
     },
     "metadata": {
      "application/vnd.bokehjs_exec.v0+json": {
       "id": "1109"
      }
     },
     "output_type": "display_data"
    },
    {
     "data": {
      "application/vnd.jupyter.widget-view+json": {
       "model_id": "d2799eb4d4ee421188e2b40d2a66105b",
       "version_major": 2,
       "version_minor": 0
      },
      "text/plain": [
       "interactive(children=(Dropdown(description='product_type', options=('SPF',), value='SPF'), Output()), _dom_cla…"
      ]
     },
     "metadata": {},
     "output_type": "display_data"
    },
    {
     "data": {
      "text/plain": [
       "<function __main__.type_updater(product_type='SPF')>"
      ]
     },
     "execution_count": 22,
     "metadata": {},
     "output_type": "execute_result"
    }
   ],
   "source": [
    "unique_types = ['SPF']\n",
    "\n",
    "source = ColumnDataSource(spf)\n",
    "\n",
    "plot = figure(title = \"Mapped Similarities\", width = 700, height = 500)\n",
    "plot.xaxis.axis_label = \"t-SNE 1\"\n",
    "plot.yaxis.axis_label = 't-SNE 2'\n",
    "\n",
    "plot.circle(x = 'X', y = 'Y', source = source, fill_alpha=0.7, size=10,\n",
    "           color = '#c0a5e3', alpha = 1)\n",
    "\n",
    "plot.background_fill_color = \"#E9E9E9\"\n",
    "plot.background_fill_alpha = 0.3\n",
    "\n",
    "hover = HoverTool(tooltips=[('Product', '@Product')])\n",
    "plot.add_tools(hover)\n",
    "\n",
    "\n",
    "def type_updater(product_type = unique_types[0]):\n",
    "\n",
    "    new_data = {'X' : spf[spf['Category'] == product_type]['X'],\n",
    "                'Y' : spf[spf['Category'] == product_type]['Y'],\n",
    "                'Product' : spf[spf['Category'] == product_type]['Product']\n",
    "               }\n",
    "    source.data = new_data\n",
    "    push_notebook()\n",
    "  \n",
    "output_notebook()\n",
    "\n",
    "show(plot, notebook_handle = True)\n",
    "interact(type_updater, product_type = unique_types)"
   ]
  },
  {
   "attachments": {},
   "cell_type": "markdown",
   "metadata": {},
   "source": []
  }
 ],
 "metadata": {
  "kernelspec": {
   "display_name": "base",
   "language": "python",
   "name": "python3"
  },
  "language_info": {
   "codemirror_mode": {
    "name": "ipython",
    "version": 3
   },
   "file_extension": ".py",
   "mimetype": "text/x-python",
   "name": "python",
   "nbconvert_exporter": "python",
   "pygments_lexer": "ipython3",
   "version": "3.7.11"
  },
  "orig_nbformat": 4,
  "vscode": {
   "interpreter": {
    "hash": "354b4968848848eba159b79f1fbb9b71aa558c10815c079436e075f6412dc4db"
   }
  }
 },
 "nbformat": 4,
 "nbformat_minor": 2
}
