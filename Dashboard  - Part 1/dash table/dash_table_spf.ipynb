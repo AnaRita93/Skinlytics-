{
 "cells": [
  {
   "cell_type": "code",
   "execution_count": 2,
   "metadata": {},
   "outputs": [],
   "source": [
    "import pandas as pd"
   ]
  },
  {
   "cell_type": "code",
   "execution_count": 3,
   "metadata": {},
   "outputs": [
    {
     "name": "stderr",
     "output_type": "stream",
     "text": [
      "/home/rita/anaconda3/lib/python3.7/site-packages/pandas/core/frame.py:5047: SettingWithCopyWarning: \n",
      "A value is trying to be set on a copy of a slice from a DataFrame\n",
      "\n",
      "See the caveats in the documentation: https://pandas.pydata.org/pandas-docs/stable/user_guide/indexing.html#returning-a-view-versus-a-copy\n",
      "  errors=errors,\n",
      "/home/rita/anaconda3/lib/python3.7/site-packages/ipykernel_launcher.py:17: SettingWithCopyWarning: \n",
      "A value is trying to be set on a copy of a slice from a DataFrame.\n",
      "Try using .loc[row_indexer,col_indexer] = value instead\n",
      "\n",
      "See the caveats in the documentation: https://pandas.pydata.org/pandas-docs/stable/user_guide/indexing.html#returning-a-view-versus-a-copy\n",
      "/home/rita/anaconda3/lib/python3.7/site-packages/ipykernel_launcher.py:18: SettingWithCopyWarning: \n",
      "A value is trying to be set on a copy of a slice from a DataFrame.\n",
      "Try using .loc[row_indexer,col_indexer] = value instead\n",
      "\n",
      "See the caveats in the documentation: https://pandas.pydata.org/pandas-docs/stable/user_guide/indexing.html#returning-a-view-versus-a-copy\n"
     ]
    }
   ],
   "source": [
    "### Dash Data Table input### \n",
    "\n",
    "# Format spf data frame\n",
    "spf = pd.read_csv('spf_full')\n",
    "spf.drop(spf.columns[0], axis=1, inplace=True)\n",
    "spf_short = spf.drop(columns=['cleaned_list'])\n",
    "spf_short.sort_values('Product', inplace=True)\n",
    "spf_short['Product'] = spf_short['Product'].str.replace(' ','', regex=False)\n",
    "spf_short.rename(columns={'ingredient_list': ' Full Ingredient List'}, inplace=True)\n",
    "\n",
    "# Format price data frame \n",
    "price_df = pd.read_csv('Skinlytics - SPF _Price_Qt.csv')\n",
    "price_df['Product Full Name'] = price_df['Brand']+'-'+price_df['Product ']\n",
    "price_df.sort_values('Product Full Name',inplace=True )\n",
    "price_short = price_df[['Product Full Name', 'Qt./unit (ml)', 'Price per unit ', 'Pric/ml']]\n",
    "price_short.rename(columns={'Product Full Name':'Product', 'Qt./unit (ml)':'Quantity(ml)', 'Price per unit ':'Price(€)', 'Pric/ml':'Price/ml'}, inplace=True)\n",
    "price_short['Product'] = price_short['Product'].str.replace(' ','', regex=False)\n",
    "price_short['Price/ml'] = price_short['Price/ml'].str.replace(')','', regex=False)\n",
    "\n",
    "# Merge the two dataframes \n",
    "spf_merged = spf_short.merge(price_short, how='left',on='Product')\n",
    "spf_merged = spf_merged[['Category', 'Market', 'Brand', 'Product', 'Quantity(ml)', 'Price(€)', 'Price/ml', ' Full Ingredient List']]\n",
    "spf_merged.head()\n",
    "\n",
    "spf_merged.to_csv('dash_table_spf')"
   ]
  }
 ],
 "metadata": {
  "kernelspec": {
   "display_name": "base",
   "language": "python",
   "name": "python3"
  },
  "language_info": {
   "codemirror_mode": {
    "name": "ipython",
    "version": 3
   },
   "file_extension": ".py",
   "mimetype": "text/x-python",
   "name": "python",
   "nbconvert_exporter": "python",
   "pygments_lexer": "ipython3",
   "version": "3.7.11 (default, Jul 27 2021, 14:32:16) \n[GCC 7.5.0]"
  },
  "orig_nbformat": 4,
  "vscode": {
   "interpreter": {
    "hash": "354b4968848848eba159b79f1fbb9b71aa558c10815c079436e075f6412dc4db"
   }
  }
 },
 "nbformat": 4,
 "nbformat_minor": 2
}
