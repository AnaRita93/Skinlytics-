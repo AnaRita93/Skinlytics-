{
 "cells": [
  {
   "cell_type": "code",
   "execution_count": null,
   "id": "15d16b6b",
   "metadata": {},
   "outputs": [],
   "source": [
    "\"\"\"\n",
    "Skinlytics Project Workflow \n",
    "\n",
    "This notebook is a small prototype of the whole projects and intends to outline all the steps, commands and \n",
    "\n",
    "packages necessary for the project in a smaller part of the data (SPF Product category, total 50 products).\n",
    "\n",
    "\n",
    "The program goes through the following steps:\n",
    "\n",
    "--------------------\n",
    "Currently in Progress\n",
    "--------------------\n",
    "\n",
    "1. Access the data \n",
    "\n",
    "2. Clean the ingredient list\n",
    "\n",
    "3. Classify the ingredients by role/function  and generate a visualization of ingredient profile per one product\n",
    "\n",
    "4. Calculate the similarity matrix and generate a visualization of the results \n",
    "\n",
    "5. Create an interactive dashboard with Dash that display the previous charts \n",
    "\n",
    "------------\n",
    "Next steps:\n",
    "------------\n",
    "\n",
    "6. Collect and transform the data from different sources on reviews about the products listed\n",
    "\n",
    "7. Create first iteration of the sentiment and topic modeling of these reviews \n",
    "\n",
    "8. Generate visualizations and display in on a Dash dashboard \n",
    "\n",
    "\"\"\"\n"
   ]
  },
  {
   "cell_type": "markdown",
   "id": "515efb95",
   "metadata": {},
   "source": [
    "# Skinlytics Project workflow with SPF Product data (total 50 products)"
   ]
  },
  {
   "cell_type": "code",
   "execution_count": 9,
   "id": "f26fa311",
   "metadata": {},
   "outputs": [
    {
     "name": "stderr",
     "output_type": "stream",
     "text": [
      "/tmp/ipykernel_125984/598071732.py:10: UserWarning: \n",
      "The dash_html_components package is deprecated. Please replace\n",
      "`import dash_html_components as html` with `from dash import html`\n",
      "  import dash_html_components as html\n",
      "/tmp/ipykernel_125984/598071732.py:12: UserWarning: \n",
      "The dash_core_components package is deprecated. Please replace\n",
      "`import dash_core_components as dcc` with `from dash import dcc`\n",
      "  import dash_core_components as dcc\n"
     ]
    }
   ],
   "source": [
    "# Packages \n",
    "\n",
    "import matplotlib.pyplot as plt\n",
    "from matplotlib.pyplot import figure\n",
    "import pandas as pd\n",
    "from math import pi\n",
    "import re\n",
    "\n",
    "import dash\n",
    "import dash_html_components as html\n",
    "import plotly.graph_objects as go\n",
    "import dash_core_components as dcc\n",
    "import plotly.express as px\n",
    "from dash.dependencies import Input, Output"
   ]
  },
  {
   "cell_type": "markdown",
   "id": "5c2f3d67",
   "metadata": {},
   "source": [
    "## Step 1. Access the data "
   ]
  },
  {
   "cell_type": "code",
   "execution_count": 5,
   "id": "46e18c53",
   "metadata": {},
   "outputs": [
    {
     "data": {
      "text/html": [
       "<div>\n",
       "<style scoped>\n",
       "    .dataframe tbody tr th:only-of-type {\n",
       "        vertical-align: middle;\n",
       "    }\n",
       "\n",
       "    .dataframe tbody tr th {\n",
       "        vertical-align: top;\n",
       "    }\n",
       "\n",
       "    .dataframe thead th {\n",
       "        text-align: right;\n",
       "    }\n",
       "</style>\n",
       "<table border=\"1\" class=\"dataframe\">\n",
       "  <thead>\n",
       "    <tr style=\"text-align: right;\">\n",
       "      <th></th>\n",
       "      <th>Category</th>\n",
       "      <th>Market</th>\n",
       "      <th>Brand</th>\n",
       "      <th>Product</th>\n",
       "      <th>Ingredient List</th>\n",
       "    </tr>\n",
       "  </thead>\n",
       "  <tbody>\n",
       "    <tr>\n",
       "      <th>0</th>\n",
       "      <td>SPF</td>\n",
       "      <td>AU</td>\n",
       "      <td>BondiSands</td>\n",
       "      <td>Fragrance Free Body lotion SPF 50</td>\n",
       "      <td>Homosalate (10.00%), Octocrylene (8.00%), Octy...</td>\n",
       "    </tr>\n",
       "    <tr>\n",
       "      <th>1</th>\n",
       "      <td>SPF</td>\n",
       "      <td>DE</td>\n",
       "      <td>DM</td>\n",
       "      <td>Sun Dance Ultra sensitive Gel creme SPF 50</td>\n",
       "      <td>Aqua, Alcohol Denat., Dibutyl Adipate, Diethyl...</td>\n",
       "    </tr>\n",
       "    <tr>\n",
       "      <th>2</th>\n",
       "      <td>SPF</td>\n",
       "      <td>DE</td>\n",
       "      <td>DM</td>\n",
       "      <td>Balea Niacinamide 10% moisturizer SPF 30</td>\n",
       "      <td>AQUA, NIACINAMIDE, DIBUTYL ADIPATE, GLYCERIN, ...</td>\n",
       "    </tr>\n",
       "    <tr>\n",
       "      <th>3</th>\n",
       "      <td>SPF</td>\n",
       "      <td>DE</td>\n",
       "      <td>DM</td>\n",
       "      <td>Alverde Clear Beauty Getonte tagescreme</td>\n",
       "      <td>Aqua, Olea Europaea Fruit Oil*, CI 77891, Alco...</td>\n",
       "    </tr>\n",
       "    <tr>\n",
       "      <th>4</th>\n",
       "      <td>SPF</td>\n",
       "      <td>DE</td>\n",
       "      <td>Eucerin</td>\n",
       "      <td>Sun Oil Control</td>\n",
       "      <td>Aqua, Homosalate, Polymethylsilsesquioxane, Bu...</td>\n",
       "    </tr>\n",
       "  </tbody>\n",
       "</table>\n",
       "</div>"
      ],
      "text/plain": [
       "  Category Market       Brand                                    Product   \\\n",
       "0      SPF     AU  BondiSands           Fragrance Free Body lotion SPF 50   \n",
       "1      SPF     DE          DM  Sun Dance Ultra sensitive Gel creme SPF 50   \n",
       "2      SPF     DE          DM    Balea Niacinamide 10% moisturizer SPF 30   \n",
       "3      SPF     DE         DM     Alverde Clear Beauty Getonte tagescreme    \n",
       "4      SPF     DE     Eucerin                            Sun Oil Control    \n",
       "\n",
       "                                    Ingredient List   \n",
       "0  Homosalate (10.00%), Octocrylene (8.00%), Octy...  \n",
       "1  Aqua, Alcohol Denat., Dibutyl Adipate, Diethyl...  \n",
       "2  AQUA, NIACINAMIDE, DIBUTYL ADIPATE, GLYCERIN, ...  \n",
       "3  Aqua, Olea Europaea Fruit Oil*, CI 77891, Alco...  \n",
       "4  Aqua, Homosalate, Polymethylsilsesquioxane, Bu...  "
      ]
     },
     "execution_count": 5,
     "metadata": {},
     "output_type": "execute_result"
    }
   ],
   "source": [
    "spf = pd.read_csv('Skinlytics - IngredientList-SPF.csv')\n",
    "spf.head()\n"
   ]
  },
  {
   "cell_type": "markdown",
   "id": "35e83fc7",
   "metadata": {},
   "source": [
    "## Step 2. Dataset Cleaning"
   ]
  },
  {
   "cell_type": "code",
   "execution_count": 6,
   "id": "3b6d8f34",
   "metadata": {},
   "outputs": [
    {
     "data": {
      "text/html": [
       "<div>\n",
       "<style scoped>\n",
       "    .dataframe tbody tr th:only-of-type {\n",
       "        vertical-align: middle;\n",
       "    }\n",
       "\n",
       "    .dataframe tbody tr th {\n",
       "        vertical-align: top;\n",
       "    }\n",
       "\n",
       "    .dataframe thead th {\n",
       "        text-align: right;\n",
       "    }\n",
       "</style>\n",
       "<table border=\"1\" class=\"dataframe\">\n",
       "  <thead>\n",
       "    <tr style=\"text-align: right;\">\n",
       "      <th></th>\n",
       "      <th>Category</th>\n",
       "      <th>Market</th>\n",
       "      <th>Brand</th>\n",
       "      <th>Product</th>\n",
       "      <th>ingredient_list</th>\n",
       "      <th>cleaned_list</th>\n",
       "    </tr>\n",
       "  </thead>\n",
       "  <tbody>\n",
       "    <tr>\n",
       "      <th>0</th>\n",
       "      <td>SPF</td>\n",
       "      <td>AU</td>\n",
       "      <td>BondiSands</td>\n",
       "      <td>Fragrance Free Body lotion SPF 50</td>\n",
       "      <td>homosalate,octocrylene,octylsalicylate,butylme...</td>\n",
       "      <td>homosalate,octocrylene,octylsalicylate,butylme...</td>\n",
       "    </tr>\n",
       "    <tr>\n",
       "      <th>1</th>\n",
       "      <td>SPF</td>\n",
       "      <td>DE</td>\n",
       "      <td>DM</td>\n",
       "      <td>Sun Dance Ultra sensitive Gel creme SPF 50</td>\n",
       "      <td>aqua,alcoholdenat.,dibutyladipate,diethylamino...</td>\n",
       "      <td>aqua,alcoholdenat.,dibutyladipate,diethylamino...</td>\n",
       "    </tr>\n",
       "    <tr>\n",
       "      <th>2</th>\n",
       "      <td>SPF</td>\n",
       "      <td>DE</td>\n",
       "      <td>DM</td>\n",
       "      <td>Balea Niacinamide 10% moisturizer SPF 30</td>\n",
       "      <td>aqua,niacinamide,dibutyladipate,glycerin,ethyl...</td>\n",
       "      <td>aqua,niacinamide,dibutyladipate,glycerin,ethyl...</td>\n",
       "    </tr>\n",
       "    <tr>\n",
       "      <th>3</th>\n",
       "      <td>SPF</td>\n",
       "      <td>DE</td>\n",
       "      <td>DM</td>\n",
       "      <td>Alverde Clear Beauty Getonte tagescreme</td>\n",
       "      <td>aqua,oleaeuropaeafruitoil,ci77891,alcoholdenat...</td>\n",
       "      <td>aqua,oleaeuropaeafruitoil,ci77891,alcoholdenat...</td>\n",
       "    </tr>\n",
       "    <tr>\n",
       "      <th>4</th>\n",
       "      <td>SPF</td>\n",
       "      <td>DE</td>\n",
       "      <td>Eucerin</td>\n",
       "      <td>Sun Oil Control</td>\n",
       "      <td>aqua,homosalate,polymethylsilsesquioxane,butyl...</td>\n",
       "      <td>aqua,homosalate,polymethylsilsesquioxane,butyl...</td>\n",
       "    </tr>\n",
       "  </tbody>\n",
       "</table>\n",
       "</div>"
      ],
      "text/plain": [
       "  Category Market       Brand                                    Product   \\\n",
       "0      SPF     AU  BondiSands           Fragrance Free Body lotion SPF 50   \n",
       "1      SPF     DE          DM  Sun Dance Ultra sensitive Gel creme SPF 50   \n",
       "2      SPF     DE          DM    Balea Niacinamide 10% moisturizer SPF 30   \n",
       "3      SPF     DE         DM     Alverde Clear Beauty Getonte tagescreme    \n",
       "4      SPF     DE     Eucerin                            Sun Oil Control    \n",
       "\n",
       "                                     ingredient_list  \\\n",
       "0  homosalate,octocrylene,octylsalicylate,butylme...   \n",
       "1  aqua,alcoholdenat.,dibutyladipate,diethylamino...   \n",
       "2  aqua,niacinamide,dibutyladipate,glycerin,ethyl...   \n",
       "3  aqua,oleaeuropaeafruitoil,ci77891,alcoholdenat...   \n",
       "4  aqua,homosalate,polymethylsilsesquioxane,butyl...   \n",
       "\n",
       "                                        cleaned_list  \n",
       "0  homosalate,octocrylene,octylsalicylate,butylme...  \n",
       "1  aqua,alcoholdenat.,dibutyladipate,diethylamino...  \n",
       "2  aqua,niacinamide,dibutyladipate,glycerin,ethyl...  \n",
       "3  aqua,oleaeuropaeafruitoil,ci77891,alcoholdenat...  \n",
       "4  aqua,homosalate,polymethylsilsesquioxane,butyl...  "
      ]
     },
     "execution_count": 6,
     "metadata": {},
     "output_type": "execute_result"
    }
   ],
   "source": [
    "spf.rename(columns={'Ingredient List ':'ingredient_list'},inplace=True)\n",
    "spf['ingredient_list'] = spf['ingredient_list'].str.lower()\n",
    "spf['ingredient_list'] = spf['ingredient_list'].str.replace('|',',', regex=False)\n",
    "spf['ingredient_list'] = spf['ingredient_list'].str.replace('*',' ', regex=False)\n",
    "spf['ingredient_list'] = spf['ingredient_list'].str.replace('%',' ', regex=False)\n",
    "spf['ingredient_list'] = spf['ingredient_list'].str.replace('\\n',' ', regex=False)\n",
    "spf['ingredient_list'] = spf['ingredient_list'].str.replace('\\u200b',' ',regex=False)\n",
    "spf['ingredient_list'] = spf['ingredient_list'].str.replace(' ','', regex=False)\n",
    "spf['ingredient_list'] = spf['ingredient_list'].str.replace('\\(\\d\\.\\d\\d\\)|\\(\\d\\d\\.\\d\\d\\)','', regex=True)\n",
    "\n",
    "\n",
    "\n",
    "spf['cleaned_list'] = spf['ingredient_list']\n",
    "spf.head()"
   ]
  },
  {
   "cell_type": "code",
   "execution_count": 7,
   "id": "ff606c1c",
   "metadata": {},
   "outputs": [
    {
     "data": {
      "text/plain": [
       "['(acrylicacid/alkylacrylate(c10-30))copolymer',\n",
       " '(acrylicacidna/acryloyldimethyltaurinena)copolymer',\n",
       " '1',\n",
       " '1-methylhydantoin-2-imide',\n",
       " '2-hexanediol',\n",
       " '2naphosphate',\n",
       " '4-methylbenzylidenecamphor',\n",
       " '4-t-butylcyclohexanol',\n",
       " 'acaciasenegalgum',\n",
       " 'acidgliciretinic']"
      ]
     },
     "execution_count": 7,
     "metadata": {},
     "output_type": "execute_result"
    }
   ],
   "source": [
    "all_ingreds = []\n",
    "\n",
    "for i in spf['ingredient_list']:\n",
    "    ingreds_list = i.split(',')\n",
    "    for j in ingreds_list:\n",
    "        all_ingreds.append(j)\n",
    "        \n",
    "all_ingreds = sorted(set(all_ingreds))\n",
    "all_ingreds[0:10]\n",
    "\n"
   ]
  },
  {
   "cell_type": "code",
   "execution_count": 92,
   "id": "cddeffd1",
   "metadata": {},
   "outputs": [
    {
     "data": {
      "text/plain": [
       "542"
      ]
     },
     "execution_count": 92,
     "metadata": {},
     "output_type": "execute_result"
    }
   ],
   "source": [
    "len(all_ingreds)"
   ]
  },
  {
   "cell_type": "markdown",
   "id": "8dd30c69",
   "metadata": {},
   "source": [
    "### Ingredient list cleaning\n"
   ]
  },
  {
   "cell_type": "code",
   "execution_count": 93,
   "id": "d4b74794",
   "metadata": {},
   "outputs": [],
   "source": [
    "cleaned_list = []\n",
    "\n",
    "for i in spf['cleaned_list']:\n",
    "    ingreds_c_list = i.split(',')\n",
    "    for j in ingreds_c_list:\n",
    "        cleaned_list.append(j)\n",
    "            \n",
    "    cleaned_list = sorted(set(cleaned_list))\n"
   ]
  },
  {
   "cell_type": "code",
   "execution_count": 94,
   "id": "bf0cbae9",
   "metadata": {},
   "outputs": [
    {
     "data": {
      "text/plain": [
       "542"
      ]
     },
     "execution_count": 94,
     "metadata": {},
     "output_type": "execute_result"
    }
   ],
   "source": [
    "len(cleaned_list)"
   ]
  },
  {
   "cell_type": "markdown",
   "id": "c6de7984",
   "metadata": {},
   "source": [
    "#### Clean up active ingredients and SPF filters"
   ]
  },
  {
   "cell_type": "code",
   "execution_count": 95,
   "id": "bce8cb26",
   "metadata": {},
   "outputs": [],
   "source": [
    "# Styrene/Acrylates Copolymer \n",
    "spf['cleaned_list'] = spf['cleaned_list'].str.replace('styrene\\/acrylatescopolymer', 'styrene_acrylates_copolymer', regex=True)\n",
    "\n",
    "#Zinc Oxide\n",
    "spf['cleaned_list'] = spf['cleaned_list'].str.replace('microparticlezincoxide|zincoxide\\(\\d\\)|zincoxide\\(\\d\\.\\d\\)', 'zincoxide', regex=True)\n",
    "\n"
   ]
  },
  {
   "cell_type": "code",
   "execution_count": 96,
   "id": "8539ce5b",
   "metadata": {},
   "outputs": [],
   "source": [
    "cleaned_list = []\n",
    "\n",
    "for i in spf['cleaned_list']:\n",
    "    ingreds_c_list = i.split(',')\n",
    "    for j in ingreds_c_list:\n",
    "        cleaned_list.append(j)\n",
    "            \n",
    "    cleaned_list = sorted(set(cleaned_list))\n"
   ]
  },
  {
   "cell_type": "code",
   "execution_count": 97,
   "id": "d816c80f",
   "metadata": {},
   "outputs": [
    {
     "data": {
      "text/plain": [
       "539"
      ]
     },
     "execution_count": 97,
     "metadata": {},
     "output_type": "execute_result"
    }
   ],
   "source": [
    "len(cleaned_list)"
   ]
  },
  {
   "cell_type": "markdown",
   "id": "1159d993",
   "metadata": {},
   "source": [
    "#### Remove unecessary ingredients "
   ]
  },
  {
   "cell_type": "code",
   "execution_count": 106,
   "id": "af4e7598",
   "metadata": {},
   "outputs": [],
   "source": [
    "# Remove unecessary ingredients \n",
    "\n",
    "ingred_to_be_removed = ['1', \n",
    "                        '1-methylhydantoin-2-imide', \n",
    "                        '-methylhydantoin-2-imide',\n",
    "                        '2-hexanediol',\n",
    "                        '2naphosphate', \n",
    "                        'acaciasenegalgum', \n",
    "                        'acidgliciretinic', \n",
    "                        'alhydroxide', \n",
    "                        'alpha-isomethylionone', \n",
    "                        'alumina',\n",
    "                        'aluminumstarchoctenylsuccinate',\n",
    "                        'zeamaysstarch',\n",
    "                        'xanthangum',\n",
    "                        'undecane',\n",
    "                        'tromethamine',\n",
    "                        'trisodiumethylenediaminedisuccinate',\n",
    "                        'trisodiumedta' ,\n",
    "                        'vp/hexadecenecopolymer',\n",
    "                        'vp/hexadecenecopolymer',\n",
    "                        'vinyldimethicone/methiconesilsesquioxanecrosspolymer',\n",
    "                        'triethylhexanoin',\n",
    "                        'triethoxysilylethylpolydimethylsiloxyethylhexyldimethicone', \n",
    "                        'triethoxycaprylylsilane',\n",
    "                        'triethanolamine',\n",
    "                        'trideceth-6',\n",
    "                        'tridecane',\n",
    "                        'tricaprylin', \n",
    "                        'triacontanylpvp', \n",
    "                        'tinoxide',\n",
    "                        'tetrasodiumedta', \n",
    "                        'tea-cocoylglutamate',\n",
    "                        'tapiocastarch',\n",
    "                        't-butylalcohol',\n",
    "                        'syntheticfluorphlogopite',\n",
    "                        '(acrylicacid/alkylacrylate(c10-30))copolymer',\n",
    "                        '(acrylicacidna/acryloyldimethyltaurinena)copolymer',\n",
    "                        'acrylates-c10-30-alkyl-acrylate-crosspolymer',\n",
    "                        'acrylates/alkylacrylatec10-30crosspolymer',\n",
    "                        'acrylates/c10-30alkylacrylatecrosspolymer',\n",
    "                        'ammoniumacrylatescopolymer',\n",
    "                        'ammoniumacryloyldimethyltaurate/vpcopolymer',\n",
    "                        'ammoniumpolyacryloyldimethyltaurate',\n",
    "                        'c10-30alkylacrylatecrosspolymer',\n",
    "                        'c12-22alkylacrylate/hydroxyethylacrylatecopolymer',\n",
    "                        'dimethiconecrosspolymer(laurylmethacrylate/namethacrylate)',\n",
    "                        'ethylene/acrylicacidcopolymer',\n",
    "                        'glycoldimethacrylatecrosspolymer',\n",
    "                        'hydroxyethylacrylate/sodiumacryloyldimethyltauratecopolymer',\n",
    "                        'methylmethacrylatecrosspolymer',\n",
    "                        'polyacrylamide',\n",
    "                        'polyacrylatecrosspolymer-6',\n",
    "                        'polyc10-30alkylacrylate',\n",
    "                        'polymethylmethacrylate',\n",
    "                        'sodiumacrylate/sodiumacryloyldimethyltauratecopolymer',\n",
    "                        'sodiumacrylatescopolymer',\n",
    "                        'sodiumacrylatescrosspolymer-2',\n",
    "                        'sodiumpolyacrylate',\n",
    "                        'sodiumpolyacrylatestarch',\n",
    "                        'sodiumpolyacryloyldimethyltaurate',\n",
    "                        '(acrylicacid/alkylacrylate(c0-30))copolymer',\n",
    "                        'acrylates-c0-30-alkyl-acrylate-crosspolymer',\n",
    "                        'acrylates/alkylacrylatec0-30crosspolymer',\n",
    "                        'acrylates/c0-30alkylacrylatecrosspolymer',\n",
    "                        'c0-30alkylacrylatecrosspolymer',\n",
    "                        'c2-22alkylacrylate/hydroxyethylacrylatecopolymer',\n",
    "                        'polyc0-30alkylacrylate',\n",
    "\n",
    "                     \n",
    "                       \n",
    "                       ]\n",
    "\n",
    "for i in ingred_to_be_removed:\n",
    "    spf['cleaned_list'] = spf['cleaned_list'].str.replace(i,'', regex=False)\n"
   ]
  },
  {
   "cell_type": "code",
   "execution_count": 107,
   "id": "ef7a0d90",
   "metadata": {},
   "outputs": [],
   "source": [
    "cleaned_list = []\n",
    "\n",
    "for i in spf['cleaned_list']:\n",
    "    ingreds_c_list = i.split(',')\n",
    "    for j in ingreds_c_list:\n",
    "        cleaned_list.append(j)\n",
    "            \n",
    "    cleaned_list = sorted(set(cleaned_list))\n"
   ]
  },
  {
   "cell_type": "code",
   "execution_count": 108,
   "id": "32c51ada",
   "metadata": {},
   "outputs": [
    {
     "data": {
      "text/plain": [
       "483"
      ]
     },
     "execution_count": 108,
     "metadata": {},
     "output_type": "execute_result"
    }
   ],
   "source": [
    "len(cleaned_list)"
   ]
  },
  {
   "cell_type": "markdown",
   "id": "ca2872da",
   "metadata": {},
   "source": [
    "#### Cleaning up station"
   ]
  },
  {
   "cell_type": "code",
   "execution_count": 111,
   "id": "5e3fdd50",
   "metadata": {},
   "outputs": [
    {
     "data": {
      "text/plain": [
       "['alcohol',\n",
       " 'alcoholdenat',\n",
       " 'alcoholdenat.',\n",
       " 'arachidylalcohol',\n",
       " 'behenylalcohol',\n",
       " 'benzylalcohol',\n",
       " 'c14-22alcohols',\n",
       " 'cetearylalcohol',\n",
       " 'cetylalcohol',\n",
       " 'myristylalcohol',\n",
       " 'polyvinylalcohol',\n",
       " 'stearylalcohol',\n",
       " 't-butylalcohol']"
      ]
     },
     "execution_count": 111,
     "metadata": {},
     "output_type": "execute_result"
    }
   ],
   "source": [
    "[s for s in all_ingreds if 'alcohol' in s][:50]"
   ]
  },
  {
   "cell_type": "code",
   "execution_count": 109,
   "id": "2e97388c",
   "metadata": {},
   "outputs": [
    {
     "data": {
      "text/plain": [
       "['acrylates/dimethiconecopolymer',\n",
       " 'acrylatescopolymer',\n",
       " 'styrene_acrylates_copolymer']"
      ]
     },
     "execution_count": 109,
     "metadata": {},
     "output_type": "execute_result"
    }
   ],
   "source": [
    "[s for s in cleaned_list if 'acryl' in s][:50]"
   ]
  },
  {
   "cell_type": "code",
   "execution_count": null,
   "id": "6786c03a",
   "metadata": {},
   "outputs": [],
   "source": [
    "# Drying alcohols: alcohol, alcohol denat. \n",
    "# Fatty alcohols: 'stearylalcohol, 'cetylalcohol, cetearylalcohol, arachidylalcohol, behenylalcohol"
   ]
  },
  {
   "cell_type": "code",
   "execution_count": 112,
   "id": "282046c1",
   "metadata": {},
   "outputs": [],
   "source": [
    "#cleaned_list[0:600]\n"
   ]
  },
  {
   "cell_type": "code",
   "execution_count": 89,
   "id": "14ea473d",
   "metadata": {},
   "outputs": [],
   "source": [
    "# Remove water as an ingredient # Fix the water sintax\n",
    "#spf['cleaned_list'] = spf['cleaned_list'].str.replace('aqua|aqua\\(\\w+\\)|aqua\\/.*r','water', regex=True)\n",
    "#spf['cleaned_list'] = spf['cleaned_list'].str.replace('purifiedwater','water')\n",
    "#spf['cleaned_list'] = spf['cleaned_list'].str.replace('\\(water\\)|\\/water|\\/\\\\u200bwater','', regex=True)\n",
    "# issue: spf['cleaned_list'] = spf['cleaned_list'].str.replace('\\bwater\\b','', regex=True)\n",
    "\n",
    "# Vitamin E #Fix the \\n sintax\n",
    "#spf['cleaned_list'] = spf['cleaned_list'].str.replace('vitamine\\n','vitamin_e_unspecified')\n",
    "#spf['cleaned_list'] = spf['cleaned_list'].str.replace('\\w+acetate','vitamin_e_acetate', regex=True)\n",
    "#spf['cleaned_list'] = spf['cleaned_list'].str.replace('tocopherol','vitamin_e', regex=True) \n",
    "#spf['cleaned_list'] = spf['cleaned_list'].str.replace('vitamin_e\\.','vitamin_e', regex=True) \n",
    "\n",
    "# Titanium Dioxide # Fix the \\n sintax\n",
    "# Ci77891 when used as a colorant \n",
    "# Nano form is an enhanced version of titanium dioxide \n",
    "# usually combined with Iron oxide pigments to increase visible light protection\n",
    "#spf['cleaned_list'] = spf['cleaned_list'].str.replace('\\w.*nano\\)|\\w.*nano.*dioxide|microparticletitaniumdioxide','titaniumdioxide[nano/micro]', regex=True)\n",
    "#spf['cleaned_list'] = spf['cleaned_list'].str.replace('microparticletitaniumdioxide','titaniumdioxide[micro]', regex=True)\n",
    "#spf['cleaned_list'] = spf['cleaned_list'].str.replace('titaniumoxide','titaniumdioxide', regex=True)\n",
    "#spf['cleaned_list'] = spf['cleaned_list'].str.replace('titaniumdioxide\\(\\d\\)','titaniumdioxide', regex=True)\n",
    "#spf['cleaned_list'] = spf['cleaned_list'].str.replace('\\w.*ci77891\\/.*\\w','titaniumdioxide(ci77891)', regex=True)\n",
    "#spf['cleaned_list'] = spf['cleaned_list'].str.replace('\\w.*ci77891\\)\\\\n','titaniumdioxide(ci77891)', regex=True)\n",
    "#spf['cleaned_list'] = spf['cleaned_list'].str.replace('citral\\\\n','', regex=True)\n",
    "\n",
    "\n",
    "# filters that risk the coral sea life: oxybenzone, octocrylene and octinoxate\n",
    "\n",
    "# Acrylates increase water resistance and boost SPF protection\n",
    "#Common water resistant ingredients: \n",
    "# Acrylates/Octylacrylamide Copolymer \n",
    "# VA/Butyl Maleate/Isobornyl Acrylate Copolymer\n",
    "# Styrene Acrylates Copolymer\n",
    "# Acrylates/C12-22 Alkyl Methacrylate Copolymer\n",
    "# VP/Eicosene Copolymer\n",
    "\n",
    "# Acrylates \n",
    "# Styrene/Acrylates Copolymer - used to create water resistant formulas, boosts in SPF bwt 11%-18% per 1% of styrene\n",
    "# Sodium Polyacrylate - subperabsorbent polymer with very strong water binding abilities\n",
    "\n",
    "# Alcohol\n",
    "#Vitamin C \n"
   ]
  },
  {
   "cell_type": "code",
   "execution_count": null,
   "id": "16d8193c",
   "metadata": {},
   "outputs": [],
   "source": []
  },
  {
   "cell_type": "markdown",
   "id": "6d99d320",
   "metadata": {},
   "source": [
    "## Step 3. Generating a classification profile score system and visualize it \n",
    "\n",
    "* For each ingredient in the list, attribute it to a role/function \n",
    "* Then agregate it by count of ingredients in each role/function and use it as a score\n",
    "* Calculate overall score \n",
    "* Store the table and visualize the scores\n"
   ]
  },
  {
   "cell_type": "code",
   "execution_count": null,
   "id": "d738a859",
   "metadata": {},
   "outputs": [],
   "source": [
    "# Store active ingredients by role \n",
    "\n",
    "spf_filters = ['zincoxide', \n",
    "               'zincoxide(4)', \n",
    "               'zincoxide(9.0)',\n",
    "              'tris-biphenyltriazine(nano)']\n",
    "\n",
    "\n",
    "\n",
    "active_ingredients = ['water-solublecollagen',\n",
    "                      'vitisviniferaseedoil',\n",
    "                      'vitamine\\n',\n",
    "                      'vacciniummyrtillusleafextract', \n",
    "                      'ubiquinone',\n",
    "                      'tremellafuciformispolysaccharide',\n",
    "                      'trehalose']\n",
    "\n",
    "fragrances = ['vanillaplanifoliafruitextract','', '', '']\n",
    "\n",
    "\n",
    "anti_acne = []\n",
    "\n",
    "antioxidant = []\n",
    "\n",
    "cell_communicating = []\n",
    "\n",
    "skin_identical = []\n",
    "\n",
    "skin_brightening = []\n",
    "\n",
    "soothing = []\n",
    "\n",
    "antibacterial = []\n",
    "\n",
    "pigment = []\n",
    "\n",
    "emolient = []\n",
    "\n",
    "humectant = []\n",
    "\n",
    "preservative = []\n"
   ]
  },
  {
   "cell_type": "markdown",
   "id": "34ae9203",
   "metadata": {},
   "source": [
    "## Step 4. Generating a similarity matrix (each column an ingredient, each row a product) and visualize it "
   ]
  },
  {
   "cell_type": "code",
   "execution_count": null,
   "id": "cf065990",
   "metadata": {},
   "outputs": [],
   "source": [
    "\n",
    "# This is a very basic matrix, weights can be adjusted \n",
    "\n",
    "one_hot_list = [[0] * 0 for i in range(len(all_ingreds))]\n",
    "\n",
    "for i in data['clean_ingreds']:\n",
    "    k=0\n",
    "    for j in all_ingreds:\n",
    "        if j in i:\n",
    "            one_hot_list[k].append(1)\n",
    "        else:\n",
    "            one_hot_list[k].append(0)\n",
    "        k+=1\n",
    "        \n",
    "ingred_matrix = pd.DataFrame(one_hot_list).transpose()\n",
    "ingred_matrix.columns = [sorted(set(all_ingreds))]\n",
    "\n",
    "ingred_matrix"
   ]
  },
  {
   "cell_type": "code",
   "execution_count": null,
   "id": "07e9c21a",
   "metadata": {},
   "outputs": [],
   "source": [
    "# Step 2: Rank, classify and score the ingredient list aggregated by Active Group"
   ]
  },
  {
   "cell_type": "markdown",
   "id": "6c7f6762",
   "metadata": {},
   "source": [
    "## Step 5. Display Visualizations in Dash "
   ]
  },
  {
   "cell_type": "code",
   "execution_count": 12,
   "id": "75a25e7c",
   "metadata": {},
   "outputs": [],
   "source": [
    "# Dash script with dummy data \n",
    "\n",
    "from dash import Dash, html, dcc\n",
    "\n",
    "app = Dash(__name__)\n",
    "\n",
    "# assume you have a \"long-form\" data frame\n",
    "# see https://plotly.com/python/px-arguments/ for more options\n",
    "\n",
    "df = pd.DataFrame({\n",
    "    \"Fruit\": [\"Apples\", \"Oranges\", \"Bananas\", \"Apples\", \"Oranges\", \"Bananas\"],\n",
    "    \"Amount\": [4, 1, 2, 2, 4, 5],\n",
    "    \"City\": [\"SF\", \"SF\", \"SF\", \"Montreal\", \"Montreal\", \"Montreal\"]\n",
    "})\n",
    "\n",
    "fig = px.bar(df, x=\"Fruit\", y=\"Amount\", color=\"City\", barmode=\"group\")\n",
    "\n",
    "app.layout = html.Div(children=[\n",
    "    html.H1(children='Hello Dash'),\n",
    "\n",
    "    html.Div(children='''\n",
    "        Dash: A web application framework for your data.\n",
    "    '''),\n",
    "\n",
    "    dcc.Graph(\n",
    "        id='example-graph',\n",
    "        figure=fig\n",
    "    )\n",
    "])\n",
    "\n",
    "#if __name__ == '__main__':\n",
    "#    app.run(host='1.0.0.0'\n",
    "#            port=''\n",
    "#        debug=True)"
   ]
  },
  {
   "cell_type": "markdown",
   "id": "34d0c942",
   "metadata": {},
   "source": [
    "------------\n",
    "Next steps:\n",
    "------------\n",
    "\n",
    "6. Collect and transform the data from different sources on reviews about the products listed\n",
    "\n",
    "7. Create first iteration of the sentiment and topic modeling of these reviews \n",
    "\n",
    "8. Generate visualizations and display in on a Dash dashboard \n"
   ]
  },
  {
   "cell_type": "code",
   "execution_count": null,
   "id": "f5f4e259",
   "metadata": {},
   "outputs": [],
   "source": []
  }
 ],
 "metadata": {
  "kernelspec": {
   "display_name": "Python 3 (ipykernel)",
   "language": "python",
   "name": "python3"
  },
  "language_info": {
   "codemirror_mode": {
    "name": "ipython",
    "version": 3
   },
   "file_extension": ".py",
   "mimetype": "text/x-python",
   "name": "python",
   "nbconvert_exporter": "python",
   "pygments_lexer": "ipython3",
   "version": "3.8.10"
  }
 },
 "nbformat": 4,
 "nbformat_minor": 5
}
